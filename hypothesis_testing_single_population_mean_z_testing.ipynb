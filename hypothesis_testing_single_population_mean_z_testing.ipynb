{
 "cells": [
  {
   "cell_type": "code",
   "execution_count": 2,
   "metadata": {
    "collapsed": true
   },
   "outputs": [],
   "source": [
    "import time\n",
    "import numpy as np\n",
    "import matplotlib.pyplot as plt\n",
    "import seaborn as sns\n",
    "import scipy.stats as spst\n",
    "%matplotlib inline"
   ]
  },
  {
   "cell_type": "markdown",
   "metadata": {},
   "source": [
    "# unknown $\\mu$ and known $\\sigma$ ----------------------------------------"
   ]
  },
  {
   "cell_type": "markdown",
   "metadata": {},
   "source": [
    "## hypothesis\n",
    "\n",
    "$H_{0}$: mean $\\mu = \\mu_{0}$\n",
    "\n",
    "$H_{1}$: mean $\\mu \\neq \\mu_{0}$\n",
    "\n",
    "standard deviation (known): $\\sigma_{0}$\n",
    "\n",
    "significance level: $\\alpha = 0.05$ (probability to reject $H_{0}$)"
   ]
  },
  {
   "cell_type": "code",
   "execution_count": 78,
   "metadata": {},
   "outputs": [
    {
     "name": "stdout",
     "output_type": "stream",
     "text": [
      "population mean = 9.980\n",
      "population mean normalized with respect to mu_test = 0.8490\n"
     ]
    }
   ],
   "source": [
    "N = 20         # number of samples.\n",
    "sgm = 2.0      # sigma 0\n",
    "mu_true = 10.0 # true mean\n",
    "mu_test = 9.6  # mu0\n",
    "\n",
    "x = np.random.normal(loc=mu_true, scale=sgm, size=N)\n",
    "mu_pop = x.mean()\n",
    "u = (mu_pop - mu_test) / (sgm / np.sqrt(N))\n",
    "print('population mean = {:2.3f}'.format(mu_pop))\n",
    "print('population mean normalized with respect to mu_test = {:1.4f}'.format(u))"
   ]
  },
  {
   "cell_type": "markdown",
   "metadata": {},
   "source": [
    "Examine type-I error ($H_{0}$)"
   ]
  },
  {
   "cell_type": "code",
   "execution_count": 79,
   "metadata": {},
   "outputs": [
    {
     "name": "stdout",
     "output_type": "stream",
     "text": [
      "z_(a/2)   = -1.9600\n",
      "z_(1-a/2) =  1.9600\n",
      "u         =  0.8490\n",
      "probability to obtain u = 0.2782 given mu_test = 9.60\n"
     ]
    }
   ],
   "source": [
    "za2 = spst.norm.ppf([0.025, 0.975])\n",
    "print('z_(a/2)   = {:1.4f}'.format(za2[0]))\n",
    "print('z_(1-a/2) =  {:1.4f}'.format(za2[1]))\n",
    "print('u         =  {:1.4f}'.format(u))\n",
    "print('probability to obtain u = {:1.4f} given mu_test = {:2.2f}'.format(spst.norm().pdf(u), mu_test))"
   ]
  },
  {
   "cell_type": "markdown",
   "metadata": {},
   "source": [
    "Examine type-II error ($H_{1}$)\n",
    "\n",
    "Here we test if $\\mu \\neq \\mu_{0}$, namely, we have to pick $\\mu$.\n",
    "\n",
    "Question: how should we pick this $\\mu$? (avoid false positive)\n",
    "\n",
    "Define $\\Delta = \\frac{\\mu - \\mu_{0}}{\\sigma_{0}}$.\n",
    "\n",
    "$$\\begin{align}\n",
    "1 - \\beta \\quad & = &\\quad Pr\\big(|u| \\ge z_{\\alpha /2}\\big) \\\\\n",
    "\\quad & = &\\quad Pr\\big(u \\le -z_{\\alpha /2}\\big) + Pr\\big(u \\ge z_{\\alpha /2}\\big)\\\\\n",
    "\\quad & = &\\quad Pr\\bigg(\\frac{\\bar{x} - \\mu_{0}}{\\sigma_{0}} \\le -z_{\\alpha /2}\\bigg) + Pr\\bigg(\\frac{\\bar{x} - \\mu_{0}}{\\sigma_{0}} \\ge z_{\\alpha /2}\\bigg)\\\\\n",
    "\\quad & = &\\quad Pr\\bigg(\\frac{\\bar{x} - \\mu}{\\sigma_{0}/\\sqrt{N}} + \\frac{\\mu - \\mu_{0}}{\\sigma_{0}/\\sqrt{N}} \\le -z_{\\alpha /2}\\bigg) + Pr\\bigg(\\frac{\\bar{x} - \\mu}{\\sigma_{0}/\\sqrt{N}} + \\frac{\\mu - \\mu_{0}}{\\sigma_{0}/\\sqrt{N}}  \\ge z_{\\alpha /2}\\bigg)\\\\\n",
    "\\quad & = &\\quad Pr\\bigg(u + \\frac{\\mu - \\mu_{0}}{\\sigma_{0}/\\sqrt{N}} \\le -z_{\\alpha /2}\\bigg) + Pr\\bigg(u + \\frac{\\mu - \\mu_{0}}{\\sigma_{0}/\\sqrt{N}}  \\ge z_{\\alpha /2}\\bigg)\\\\\n",
    "\\quad & = &\\quad Pr\\big(u + \\sqrt{N}\\Delta \\le -z_{\\alpha /2}\\big) + Pr\\big(u + \\sqrt{N}\\Delta \\ge z_{\\alpha /2}\\big)\\\\\n",
    "\\quad & = &\\quad Pr\\big(u  \\le -z_{\\alpha /2} - \\sqrt{N}\\Delta\\big) + Pr\\big(u \\ge z_{\\alpha /2} - \\sqrt{N}\\Delta\\big)\n",
    "\\end{align}$$\n",
    "\n",
    "\n",
    "\n",
    "We consider $N(\\mu_{0}, \\sigma_{0})$ as population 0 and $N(\\mu, \\sigma_{0})$ as population 1, where $\\mu$ is to be picked.\n",
    "\n",
    "For convenience, consider $\\Delta > 0 \\Rightarrow \\mu > \\mu_{0}$.\n",
    "\n",
    "\n",
    "(1) We may decide $m = \\frac{\\Delta}{2}$. such that\n",
    "\n",
    "$\\qquad$ p = CDF($N(\\mu_{0}, \\sigma_{0})$, $x \\le m$)\n",
    "\n",
    "$\\qquad$ p = CDF($N(\\mu, \\sigma_{0})$, $x \\ge m$)\n",
    "\n",
    "For example, $p = 0.8 \\Rightarrow z_{0.8} = 0.8416 = m = \\frac{\\Delta}{2} \\Rightarrow \\Delta = 1.683$.\n",
    "\n",
    "$\\qquad \\Rightarrow \\qquad \\mu = \\mu_{0} + 1.683 \\sigma_{0}$\n",
    "\n",
    "\n",
    "(2) We may decide $\\mu$ such that\n",
    "\n",
    "$\\qquad$ p = CDF($N(\\mu_{0}, \\sigma_{0})$, $x \\le \\mu$)\n",
    "\n",
    "$\\qquad$ 0.5 = CDF($N(\\mu, \\sigma_{0})$, $x \\le \\mu$)\n",
    "\n",
    "For example, $p = 0.9 \\Rightarrow z_(0.9) = 1.282 \\Rightarrow \\Delta = 1.282$. \n",
    "\n",
    "$\\qquad \\Rightarrow \\qquad \\mu = \\mu_{0} + 1.282 \\sigma_{0}$\n",
    "\n",
    "Let's take the approach (1) for here.\n"
   ]
  },
  {
   "cell_type": "code",
   "execution_count": 94,
   "metadata": {},
   "outputs": [
    {
     "data": {
      "image/png": "[encoded data removed]",
      "text/plain": [
       "<matplotlib.figure.Figure at 0x118727860>"
      ]
     },
     "metadata": {},
     "output_type": "display_data"
    }
   ],
   "source": [
    "deltas = np.arange(-1.0, 1.01, 0.01)\n",
    "Ns = [x**2 for x in range(3, 7)]\n",
    "\n",
    "plt.rcParams['figure.figsize'] = (5.0, 5.0)\n",
    "for N in Ns:\n",
    "    power = 1 - spst.norm().cdf(za2[1] - np.sqrt(N) * deltas)\n",
    "    power += spst.norm().cdf(za2[0] - np.sqrt(N) * deltas)\n",
    "    plt.axhline(1, lw=0.2, color=(0., 0., 0.))\n",
    "    plt.axhline(0, lw=0.2, color=(0., 0., 0.))\n",
    "    plt.plot(deltas, power, '-', label='N = {}'.format(N))\n",
    "    plt.xlim((-1., 1.))\n",
    "    plt.ylim((-0.05, 1.05))\n",
    "    plt.legend(loc='best')\n",
    "    plt.xlabel('Delta')\n",
    "    plt.ylabel('power')\n",
    "    plt.title('type-II')"
   ]
  },
  {
   "cell_type": "markdown",
   "metadata": {},
   "source": [
    "### design of sample size according to a specified power\n",
    "\n",
    "Suppose $\\Delta > \\Delta_{0} > 0$ and $\\sqrt{N}\\Delta$ is not too small.\n",
    "\n",
    "$$\\begin{align}\n",
    "1 - \\beta \\quad & = &\\quad Pr\\big(u  \\le -z_{\\alpha /2} - \\sqrt{N}\\Delta_{0}\\big) + Pr\\big(u \\ge z_{\\alpha /2} - \\sqrt{N}\\Delta_{0}\\big)\\\\\n",
    "\\quad & \\approx &\\quad Pr\\big(u \\ge z_{\\alpha /2} - \\sqrt{N}\\Delta_{0}\\big)\n",
    "\\end{align}$$\n",
    "\n",
    "Therefore, \n",
    "$$\\begin{align}\n",
    "\\Rightarrow \\qquad z_{1 - \\beta} \\quad & = &\\quad  z_{\\alpha /2} - \\sqrt{N}\\Delta_{0}\\\\\n",
    "\\Rightarrow \\qquad N \\quad & = &\\quad \\bigg(\\frac{z_{\\alpha /2} - z_{1 - \\beta}}{\\Delta_{0}}\\bigg)^{2}\\\\\n",
    "\\end{align}$$"
   ]
  },
  {
   "cell_type": "code",
   "execution_count": null,
   "metadata": {
    "collapsed": true
   },
   "outputs": [],
   "source": []
  },
  {
   "cell_type": "markdown",
   "metadata": {},
   "source": [
    "## hypothesis\n",
    "\n",
    "H0: mean $\\mu = \\mu_{0}$\n",
    "\n",
    "H1: mean $\\mu > \\mu_{0}$"
   ]
  },
  {
   "cell_type": "markdown",
   "metadata": {},
   "source": [
    "Examine type-II error ($H_{1}$)\n",
    "\n",
    "Here we test if $\\mu \\ge \\mu_{0}$.\n",
    "\n",
    "Similarly, define $\\Delta = \\frac{\\mu - \\mu_{0}}{\\sigma_{0}}$.\n",
    "\n",
    "$$\\begin{align}\n",
    "1 - \\beta \\quad & = &\\quad Pr\\big(u \\ge z_{\\alpha}\\big) \\\\\n",
    "\\quad & = &\\quad Pr\\big(u \\ge z_{\\alpha}\\big)\\\\\n",
    "\\quad & = &\\quad Pr\\bigg(u + \\frac{\\mu - \\mu_{0}}{\\sigma_{0}/\\sqrt{N}}  \\ge z_{\\alpha}\\bigg)\\\\\n",
    "\\quad & = &\\quad Pr\\big(u + \\sqrt{N}\\Delta \\ge z_{\\alpha}\\big)\\\\\n",
    "\\quad & = &\\quad Pr\\big(u \\ge z_{\\alpha} - \\sqrt{N}\\Delta\\big)\n",
    "\\end{align}$$"
   ]
  },
  {
   "cell_type": "code",
   "execution_count": 96,
   "metadata": {},
   "outputs": [
    {
     "name": "stdout",
     "output_type": "stream",
     "text": [
      "population mean = 10.302\n",
      "population mean normalized with respect to mu_test = 1.5689\n"
     ]
    }
   ],
   "source": [
    "N = 20         # number of samples.\n",
    "sgm = 2.0      # sigma 0\n",
    "mu_true = 10.0 # true mean\n",
    "mu_test = 9.6  # mu 0\n",
    "\n",
    "x = np.random.normal(loc=mu_true, scale=sgm, size=N)\n",
    "mu_pop = x.mean()\n",
    "u = (mu_pop - mu_test) / (sgm / np.sqrt(N))\n",
    "print('population mean = {:2.3f}'.format(mu_pop))\n",
    "print('population mean normalized with respect to mu_test = {:1.4f}'.format(u))"
   ]
  },
  {
   "cell_type": "code",
   "execution_count": 97,
   "metadata": {},
   "outputs": [
    {
     "name": "stdout",
     "output_type": "stream",
     "text": [
      "z_(a) = 1.6449\n",
      "u     = 1.5689\n",
      "probability to obtain u = 0.1165 given mu_test = 9.60\n"
     ]
    }
   ],
   "source": [
    "za = spst.norm.ppf(0.95)\n",
    "print('z_(a) = {:1.4f}'.format(za))\n",
    "print('u     = {:1.4f}'.format(u))\n",
    "print('probability to obtain u = {:1.4f} given mu_test = {:2.2f}'.format(spst.norm().pdf(u), mu_test))"
   ]
  },
  {
   "cell_type": "code",
   "execution_count": 98,
   "metadata": {},
   "outputs": [
    {
     "data": {
      "image/png": "[encoded data removed]",
      "text/plain": [
       "<matplotlib.figure.Figure at 0x1181ddf98>"
      ]
     },
     "metadata": {},
     "output_type": "display_data"
    }
   ],
   "source": [
    "deltas = np.arange(-1.0, 1.01, 0.01)\n",
    "Ns = [x**2 for x in range(3, 7)]\n",
    "\n",
    "plt.rcParams['figure.figsize'] = (5.0, 5.0)\n",
    "for N in Ns:\n",
    "    power = 1 - spst.norm().cdf(za - np.sqrt(N) * deltas)\n",
    "    plt.axhline(1, lw=0.2, color=(0., 0., 0.))\n",
    "    plt.axhline(0, lw=0.2, color=(0., 0., 0.))\n",
    "    plt.plot(deltas, power, '-', label='N = {}'.format(N))\n",
    "    plt.xlim((-1., 1.))\n",
    "    plt.ylim((-0.05, 1.05))\n",
    "    plt.legend(loc='best')\n",
    "    plt.xlabel('Delta')\n",
    "    plt.ylabel('power')\n",
    "    plt.title('type-II')"
   ]
  },
  {
   "cell_type": "markdown",
   "metadata": {},
   "source": [
    "### design of sample size according to a specified power\n",
    "\n",
    "Suppose $\\Delta > \\Delta_{0} > 0$.\n",
    "\n",
    "$$\\begin{align}\n",
    "1 - \\beta \\quad & = &\\quad Pr\\big(u \\ge z_{\\alpha} - \\sqrt{N}\\Delta_{0}\\big)\n",
    "\\end{align}$$\n",
    "\n",
    "Therefore, \n",
    "$$\\begin{align}\n",
    "\\Rightarrow \\qquad z_{1 - \\beta} \\quad & = &\\quad  z_{\\alpha} - \\sqrt{N}\\Delta_{0}\\\\\n",
    "\\Rightarrow \\qquad N \\quad & = &\\quad \\bigg(\\frac{z_{\\alpha} - z_{1 - \\beta}}{\\Delta_{0}}\\bigg)^{2}\\\\\n",
    "\\end{align}$$"
   ]
  },
  {
   "cell_type": "code",
   "execution_count": null,
   "metadata": {
    "collapsed": true
   },
   "outputs": [],
   "source": []
  },
  {
   "cell_type": "markdown",
   "metadata": {},
   "source": [
    "## hypothesis\n",
    "\n",
    "H0: mean $\\mu = \\mu_{0}$\n",
    "\n",
    "H1: mean $\\mu < \\mu_{0}$"
   ]
  },
  {
   "cell_type": "markdown",
   "metadata": {},
   "source": [
    "Examine type-II error ($H_{1}$)\n",
    "\n",
    "Here we test if $\\mu \\le \\mu_{0}$.\n",
    "\n",
    "Similarly, define $\\Delta = \\frac{\\mu - \\mu_{0}}{\\sigma_{0}}$.\n",
    "\n",
    "$$\\begin{align}\n",
    "1 - \\beta \\quad & = &\\quad Pr\\big(u \\le -z_{\\alpha}\\big) \\\\\n",
    "\\quad & = &\\quad Pr\\big(u \\le -z_{\\alpha}\\big)\\\\\n",
    "\\quad & = &\\quad Pr\\bigg(u + \\frac{\\mu - \\mu_{0}}{\\sigma_{0}/\\sqrt{N}} \\le -z_{\\alpha}\\bigg)\\\\\n",
    "\\quad & = &\\quad Pr\\big(u + \\sqrt{N}\\Delta \\le -z_{\\alpha}\\big)\\\\\n",
    "\\quad & = &\\quad Pr\\big(u \\le -z_{\\alpha} - \\sqrt{N}\\Delta\\big)\n",
    "\\end{align}$$\n"
   ]
  },
  {
   "cell_type": "code",
   "execution_count": 99,
   "metadata": {},
   "outputs": [
    {
     "name": "stdout",
     "output_type": "stream",
     "text": [
      "z_(a) = -1.6449\n",
      "u     = 1.5689\n",
      "probability to obtain u = 0.1165 given mu_test = 9.60\n"
     ]
    }
   ],
   "source": [
    "za = spst.norm.ppf(0.05)\n",
    "print('z_(a) = {:1.4f}'.format(za))\n",
    "print('u     = {:1.4f}'.format(u))\n",
    "print('probability to obtain u = {:1.4f} given mu_test = {:2.2f}'.format(spst.norm().pdf(u), mu_test))"
   ]
  },
  {
   "cell_type": "code",
   "execution_count": 102,
   "metadata": {},
   "outputs": [
    {
     "data": {
      "image/png": "[encoded data removed]",
      "text/plain": [
       "<matplotlib.figure.Figure at 0x1181b0d30>"
      ]
     },
     "metadata": {},
     "output_type": "display_data"
    }
   ],
   "source": [
    "deltas = np.arange(-1.0, 1.01, 0.01)\n",
    "Ns = [x**2 for x in range(3, 7)]\n",
    "\n",
    "plt.rcParams['figure.figsize'] = (5.0, 5.0)\n",
    "for N in Ns:\n",
    "    power = spst.norm().cdf(za - np.sqrt(N) * deltas)\n",
    "    plt.axhline(1, lw=0.2, color=(0., 0., 0.))\n",
    "    plt.axhline(0, lw=0.2, color=(0., 0., 0.))\n",
    "    plt.plot(deltas, power, '-', label='N = {}'.format(N))\n",
    "    plt.xlim((-1., 1.))\n",
    "    plt.ylim((-0.05, 1.05))\n",
    "    plt.legend(loc='best')\n",
    "    plt.xlabel('Delta')\n",
    "    plt.ylabel('power')\n",
    "    plt.title('type-II')"
   ]
  },
  {
   "cell_type": "markdown",
   "metadata": {},
   "source": [
    "### design of sample size according to a specified power\n",
    "\n",
    "Suppose $\\Delta < -\\Delta_{0}$ and $\\Delta_{0} > 0$.\n",
    "\n",
    "$$\\begin{align}\n",
    "1 - \\beta \\quad & = &\\quad 1 - Pr\\big(u \\ge - z_{\\alpha} + \\sqrt{N}\\Delta_{0}\\big)\n",
    "\\end{align}$$\n",
    "\n",
    "Therefore, \n",
    "$$\\begin{align}\n",
    "\\Rightarrow \\qquad z_{\\beta} \\quad & = &\\quad  -z_{\\alpha} + \\sqrt{N}\\Delta_{0}\\\\\n",
    "\\Rightarrow \\qquad N \\quad & = &\\quad \\bigg(\\frac{z_{\\alpha} - z_{1 - \\beta}}{\\Delta_{0}}\\bigg)^{2}\\\\\n",
    "\\end{align}$$"
   ]
  },
  {
   "cell_type": "code",
   "execution_count": null,
   "metadata": {
    "collapsed": true
   },
   "outputs": [],
   "source": []
  },
  {
   "cell_type": "markdown",
   "metadata": {},
   "source": [
    "### exercises 3.1 - 3.10"
   ]
  },
  {
   "cell_type": "code",
   "execution_count": 127,
   "metadata": {
    "collapsed": true
   },
   "outputs": [],
   "source": [
    "x = np.array([6.2, 4.8, 7.3, 5.5, 6.5, 4.9, 6.8, 7.9, 6.6, 7.3])\n",
    "mu0 = 5.0\n",
    "sgm = 1.0\n",
    "a = 0.05"
   ]
  },
  {
   "cell_type": "code",
   "execution_count": 128,
   "metadata": {},
   "outputs": [],
   "source": [
    "N = x.shape[0]\n",
    "xm = x.mean()\n",
    "u = (xm - mu0)/(sgm/np.sqrt(N))\n",
    "za2 = spst.norm.ppf([a/2, 1 - a/2])"
   ]
  },
  {
   "cell_type": "code",
   "execution_count": 129,
   "metadata": {},
   "outputs": [
    {
     "name": "stdout",
     "output_type": "stream",
     "text": [
      "mu_p   = 6.3800\n",
      "z_(a/2)   = -1.9600\n",
      "z_(1-a/2) =  1.9600\n",
      "u         =  4.3639\n",
      "probability to obtain u = 0.0000292 given mu_0 = 5.00\n"
     ]
    }
   ],
   "source": [
    "print('mu_p   = {:1.4f}'.format(xm))\n",
    "print('z_(a/2)   = {:1.4f}'.format(za2[0]))\n",
    "print('z_(1-a/2) =  {:1.4f}'.format(za2[1]))\n",
    "print('u         =  {:1.4f}'.format(u))\n",
    "print('probability to obtain u = {:1.7f} given mu_0 = {:2.2f}'.format(spst.norm().pdf(u), mu0))"
   ]
  },
  {
   "cell_type": "code",
   "execution_count": null,
   "metadata": {
    "collapsed": true
   },
   "outputs": [],
   "source": []
  },
  {
   "cell_type": "code",
   "execution_count": 134,
   "metadata": {
    "collapsed": true
   },
   "outputs": [],
   "source": [
    "x = np.array([10.8, 11.2, 9.7, 9.9, 12.0, 9.6, 10.5, 10.7, 10.1])\n",
    "mu0 = 10.0\n",
    "sgm = 0.7\n",
    "a = 0.05"
   ]
  },
  {
   "cell_type": "code",
   "execution_count": 138,
   "metadata": {
    "collapsed": true
   },
   "outputs": [],
   "source": [
    "N = x.shape[0]\n",
    "xm = x.mean()\n",
    "u = (xm - mu0)/(sgm/np.sqrt(N))\n",
    "za = spst.norm.ppf(1 - a)"
   ]
  },
  {
   "cell_type": "code",
   "execution_count": 139,
   "metadata": {},
   "outputs": [
    {
     "name": "stdout",
     "output_type": "stream",
     "text": [
      "mu_p  = 10.5000\n",
      "z_a   = 1.6449\n",
      "u     = 2.1429\n",
      "probability to obtain u = 0.0401611 given mu_0 = 10.00\n"
     ]
    }
   ],
   "source": [
    "print('mu_p  = {:1.4f}'.format(xm))\n",
    "print('z_a   = {:1.4f}'.format(za))\n",
    "print('u     = {:1.4f}'.format(u))\n",
    "print('probability to obtain u = {:1.7f} given mu_0 = {:2.2f}'.format(spst.norm().pdf(u), mu0))"
   ]
  },
  {
   "cell_type": "code",
   "execution_count": null,
   "metadata": {
    "collapsed": true
   },
   "outputs": [],
   "source": []
  },
  {
   "cell_type": "code",
   "execution_count": 140,
   "metadata": {
    "collapsed": true
   },
   "outputs": [],
   "source": [
    "x = np.array([21, 19, 16, 19, 22, 18, 20, 21])\n",
    "mu0 = 20.0\n",
    "sgm = 2.0\n",
    "a = 0.05"
   ]
  },
  {
   "cell_type": "code",
   "execution_count": 141,
   "metadata": {
    "collapsed": true
   },
   "outputs": [],
   "source": [
    "N = x.shape[0]\n",
    "xm = x.mean()\n",
    "u = (xm - mu0)/(sgm/np.sqrt(N))\n",
    "za = spst.norm.ppf(a)"
   ]
  },
  {
   "cell_type": "code",
   "execution_count": 142,
   "metadata": {},
   "outputs": [
    {
     "name": "stdout",
     "output_type": "stream",
     "text": [
      "mu_p  = 19.5000\n",
      "z_a   = -1.6449\n",
      "u     = -0.7071\n",
      "probability to obtain u = 0.3106966 given mu_0 = 20.00\n"
     ]
    }
   ],
   "source": [
    "print('mu_p  = {:1.4f}'.format(xm))\n",
    "print('z_a   = {:1.4f}'.format(za))\n",
    "print('u     = {:1.4f}'.format(u))\n",
    "print('probability to obtain u = {:1.7f} given mu_0 = {:2.2f}'.format(spst.norm().pdf(u), mu0))"
   ]
  },
  {
   "cell_type": "code",
   "execution_count": null,
   "metadata": {
    "collapsed": true
   },
   "outputs": [],
   "source": []
  },
  {
   "cell_type": "code",
   "execution_count": 167,
   "metadata": {},
   "outputs": [
    {
     "data": {
      "text/plain": [
       "0.35260808244470254"
      ]
     },
     "execution_count": 167,
     "metadata": {},
     "output_type": "execute_result"
    }
   ],
   "source": [
    "a = 0.05\n",
    "za2 = spst.norm.ppf([a/2, 1 - a/2])\n",
    "1 - spst.norm.cdf(za2[1] - np.sqrt(10) * 0.5) + spst.norm.cdf(za2[0] - np.sqrt(10) * 0.5)"
   ]
  },
  {
   "cell_type": "code",
   "execution_count": 166,
   "metadata": {},
   "outputs": [
    {
     "data": {
      "text/plain": [
       "0.60877948464545673"
      ]
     },
     "execution_count": 166,
     "metadata": {},
     "output_type": "execute_result"
    }
   ],
   "source": [
    "a = 0.05\n",
    "za2 = spst.norm.ppf([a/2, 1 - a/2])\n",
    "1 - spst.norm.cdf(za2[1] - np.sqrt(20) * 0.5) + spst.norm.cdf(za2[0] - np.sqrt(20) * 0.5)"
   ]
  },
  {
   "cell_type": "code",
   "execution_count": 173,
   "metadata": {},
   "outputs": [
    {
     "data": {
      "text/plain": [
       "0.9123145367502965"
      ]
     },
     "execution_count": 173,
     "metadata": {},
     "output_type": "execute_result"
    }
   ],
   "source": [
    "a = 0.05\n",
    "za = spst.norm.ppf(1 - a)\n",
    "1 - spst.norm.cdf(za - np.sqrt(9) * 1.0)"
   ]
  },
  {
   "cell_type": "code",
   "execution_count": 174,
   "metadata": {},
   "outputs": [
    {
     "data": {
      "text/plain": [
       "0.9978491500879838"
      ]
     },
     "execution_count": 174,
     "metadata": {},
     "output_type": "execute_result"
    }
   ],
   "source": [
    "a = 0.05\n",
    "za = spst.norm.ppf(1 - a)\n",
    "1 - spst.norm.cdf(za - np.sqrt(9) * 1.5)"
   ]
  },
  {
   "cell_type": "code",
   "execution_count": 176,
   "metadata": {},
   "outputs": [
    {
     "data": {
      "text/plain": [
       "0.8817090317783467"
      ]
     },
     "execution_count": 176,
     "metadata": {},
     "output_type": "execute_result"
    }
   ],
   "source": [
    "a = 0.05\n",
    "za = spst.norm.ppf(a)\n",
    "spst.norm.cdf(za + np.sqrt(8) * 1.0)"
   ]
  },
  {
   "cell_type": "code",
   "execution_count": 177,
   "metadata": {},
   "outputs": [
    {
     "data": {
      "text/plain": [
       "0.99074229462650465"
      ]
     },
     "execution_count": 177,
     "metadata": {},
     "output_type": "execute_result"
    }
   ],
   "source": [
    "a = 0.05\n",
    "za = spst.norm.ppf(a)\n",
    "spst.norm.cdf(za + np.sqrt(16) * 1.0)"
   ]
  },
  {
   "cell_type": "code",
   "execution_count": null,
   "metadata": {
    "collapsed": true
   },
   "outputs": [],
   "source": []
  },
  {
   "cell_type": "code",
   "execution_count": 179,
   "metadata": {},
   "outputs": [
    {
     "data": {
      "text/plain": [
       "16.417848533500969"
      ]
     },
     "execution_count": 179,
     "metadata": {},
     "output_type": "execute_result"
    }
   ],
   "source": [
    "a = 0.05\n",
    "za = spst.norm.ppf(a/2)\n",
    "pwr = 0.9\n",
    "zpwr = spst.norm.ppf(pwr)\n",
    "((zpwr - za)/0.8)**2"
   ]
  },
  {
   "cell_type": "code",
   "execution_count": 182,
   "metadata": {},
   "outputs": [
    {
     "data": {
      "text/plain": [
       "17"
      ]
     },
     "execution_count": 182,
     "metadata": {},
     "output_type": "execute_result"
    }
   ],
   "source": [
    "a = 0.05\n",
    "za = spst.norm.ppf(a/2)\n",
    "pwr = 0.9\n",
    "zpwr = spst.norm.ppf(pwr)\n",
    "int(np.ceil(((zpwr - za)/0.8)**2))"
   ]
  },
  {
   "cell_type": "code",
   "execution_count": null,
   "metadata": {
    "collapsed": true
   },
   "outputs": [],
   "source": []
  },
  {
   "cell_type": "code",
   "execution_count": 184,
   "metadata": {},
   "outputs": [
    {
     "data": {
      "text/plain": [
       "9"
      ]
     },
     "execution_count": 184,
     "metadata": {},
     "output_type": "execute_result"
    }
   ],
   "source": [
    "a = 0.05\n",
    "za = spst.norm.ppf(a)\n",
    "pwr = 0.9\n",
    "zpwr = spst.norm.ppf(pwr)\n",
    "int(np.ceil(((zpwr - za)/1.0)**2))"
   ]
  },
  {
   "cell_type": "code",
   "execution_count": 185,
   "metadata": {},
   "outputs": [
    {
     "data": {
      "text/plain": [
       "35"
      ]
     },
     "execution_count": 185,
     "metadata": {},
     "output_type": "execute_result"
    }
   ],
   "source": [
    "a = 0.05\n",
    "za = spst.norm.ppf(a)\n",
    "pwr = 0.9\n",
    "zpwr = spst.norm.ppf(pwr)\n",
    "int(np.ceil(((zpwr - za)/0.5)**2))"
   ]
  },
  {
   "cell_type": "code",
   "execution_count": null,
   "metadata": {
    "collapsed": true
   },
   "outputs": [],
   "source": []
  },
  {
   "cell_type": "code",
   "execution_count": 186,
   "metadata": {},
   "outputs": [
    {
     "data": {
      "text/plain": [
       "6"
      ]
     },
     "execution_count": 186,
     "metadata": {},
     "output_type": "execute_result"
    }
   ],
   "source": [
    "a = 0.05\n",
    "za = spst.norm.ppf(1 - a)\n",
    "pwr = 0.9\n",
    "zpwr = spst.norm.ppf(1 - pwr)\n",
    "int(np.ceil(((zpwr - za)/1.2)**2))"
   ]
  },
  {
   "cell_type": "code",
   "execution_count": 189,
   "metadata": {},
   "outputs": [
    {
     "data": {
      "text/plain": [
       "5"
      ]
     },
     "execution_count": 189,
     "metadata": {},
     "output_type": "execute_result"
    }
   ],
   "source": [
    "a = 0.05\n",
    "za = spst.norm.ppf(1 - a)\n",
    "pwr = 0.95\n",
    "zpwr = spst.norm.ppf(1 - pwr)\n",
    "int(np.ceil(((zpwr - za)/1.5)**2))"
   ]
  },
  {
   "cell_type": "code",
   "execution_count": null,
   "metadata": {
    "collapsed": true
   },
   "outputs": [],
   "source": []
  },
  {
   "cell_type": "code",
   "execution_count": null,
   "metadata": {
    "collapsed": true
   },
   "outputs": [],
   "source": []
  },
  {
   "cell_type": "code",
   "execution_count": null,
   "metadata": {
    "collapsed": true
   },
   "outputs": [],
   "source": [
    "# unknown $\\mu$ and known $\\sigma$ ----------------------------------------"
   ]
  },
  {
   "cell_type": "code",
   "execution_count": null,
   "metadata": {
    "collapsed": true
   },
   "outputs": [],
   "source": []
  },
  {
   "cell_type": "code",
   "execution_count": null,
   "metadata": {
    "collapsed": true
   },
   "outputs": [],
   "source": []
  },
  {
   "cell_type": "code",
   "execution_count": null,
   "metadata": {
    "collapsed": true
   },
   "outputs": [],
   "source": []
  },
  {
   "cell_type": "code",
   "execution_count": null,
   "metadata": {
    "collapsed": true
   },
   "outputs": [],
   "source": []
  },
  {
   "cell_type": "code",
   "execution_count": null,
   "metadata": {
    "collapsed": true
   },
   "outputs": [],
   "source": []
  },
  {
   "cell_type": "code",
   "execution_count": null,
   "metadata": {
    "collapsed": true
   },
   "outputs": [],
   "source": []
  }
 ],
 "metadata": {
  "kernelspec": {
   "display_name": "Python 3",
   "language": "python",
   "name": "python3"
  },
  "language_info": {
   "codemirror_mode": {
    "name": "ipython",
    "version": 3
   },
   "file_extension": ".py",
   "mimetype": "text/x-python",
   "name": "python",
   "nbconvert_exporter": "python",
   "pygments_lexer": "ipython3",
   "version": "3.6.1"
  }
 },
 "nbformat": 4,
 "nbformat_minor": 2
}
