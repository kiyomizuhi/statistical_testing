{
 "cells": [
  {
   "cell_type": "code",
   "execution_count": 2,
   "metadata": {
    "collapsed": true
   },
   "outputs": [],
   "source": [
    "import time\n",
    "import numpy as np\n",
    "import matplotlib.pyplot as plt\n",
    "import seaborn as sns\n",
    "import scipy.stats as spst\n",
    "import scipy.special as spsp\n",
    "\n",
    "%matplotlib inline"
   ]
  },
  {
   "cell_type": "markdown",
   "metadata": {},
   "source": [
    "# unknown $\\mu$ and unknown $\\sigma$ ----------------------------------------\n"
   ]
  },
  {
   "cell_type": "markdown",
   "metadata": {},
   "source": [
    "## hypothesis\n",
    "\n",
    "$H_{0}$: mean $\\mu = \\mu_{0}$\n",
    "\n",
    "$H_{1}$: mean $\\mu \\neq \\mu_{0}$\n",
    "\n",
    "significance level: $\\alpha = 0.05$ (probability to reject $H_{0}$)"
   ]
  },
  {
   "cell_type": "code",
   "execution_count": 27,
   "metadata": {},
   "outputs": [
    {
     "name": "stdout",
     "output_type": "stream",
     "text": [
      "population mean = 10.276\n",
      "t = 1.453\n"
     ]
    }
   ],
   "source": [
    "N = 20         # number of samples.\n",
    "sg_true = 2.0  # true sigma\n",
    "mu_true = 10.0 # true mean\n",
    "mu_test = 9.6  # mu0\n",
    "sg_test = 1.8  # sigma0\n",
    "\n",
    "x = np.random.normal(loc=mu_true, scale=sg_true, size=N)\n",
    "xm = x.mean()\n",
    "S = ((x - xm)**2).sum()\n",
    "V = S / (N - 1)\n",
    "t = (xm - mu_test) / np.sqrt(V/N)\n",
    "print('population mean = {:2.3f}'.format(xm))\n",
    "print('t = {:2.3f}'.format(t))"
   ]
  },
  {
   "cell_type": "markdown",
   "metadata": {},
   "source": [
    "Examine type-I error ($H_{1}$).\n",
    "\n",
    "Assume $H_{0}$ is true and find the critical region.\n",
    "\n",
    "Here we test if $\\mu \\neq \\mu_{0}$.\n",
    "\n",
    "$$\\begin{align}\n",
    "t \\quad & = &\\quad \\frac{\\bar{x} - \\mu_{0}}{\\sqrt{V/N}}\\\\\n",
    "V \\quad & = &\\quad \\frac{S}{N - 1}\\\\\n",
    "S \\quad & = &\\quad \\sum_{i}(x_{i} - \\bar{x})^{2}\\\\\n",
    "\\phi \\quad & = &\\quad N - 1\n",
    "\\end{align}$$\n",
    "\n",
    "Define $t(\\phi, P)$ as the two-tail 100P% point of Student's t-distribution with $\\phi$ degrees of freedom.\n",
    "\n",
    "$$\\begin{align}\n",
    "Pr\\big(|t_{0}| \\ge t(\\phi, P)\\big) \\quad & = &\\quad  P\n",
    "\\end{align}$$\n",
    "\n",
    "First, $t(\\phi, \\alpha)$ that yields the specified significance level.\n",
    "\n",
    "$$\\begin{align}\n",
    "\\alpha \\quad & = &\\quad Pr\\big(|t_{0}| \\ge t(\\phi, P)\\big)\\\\\n",
    "\\quad & = &\\quad Pr\\big(t_{0} \\le -t(\\phi, \\alpha)\\big) + Pr\\big(t_{0} \\ge t(\\phi, \\alpha)\\big)\\\\\n",
    "\\end{align}$$\n"
   ]
  },
  {
   "cell_type": "code",
   "execution_count": 28,
   "metadata": {},
   "outputs": [
    {
     "name": "stdout",
     "output_type": "stream",
     "text": [
      "dof       = 19\n",
      "t_(a/2)   = 2.0930\n",
      "t_(1-a/2) = -2.0930\n",
      "t         = 1.453\n"
     ]
    }
   ],
   "source": [
    "a = 0.05\n",
    "ta2 = spst.t.ppf([1 - a/2, a/2], df=N-1)\n",
    "print('dof       = {}'.format(N - 1))\n",
    "print('t_(a/2)   = {:1.4f}'.format(ta2[0]))\n",
    "print('t_(1-a/2) = {:1.4f}'.format(ta2[1]))\n",
    "print('t         = {:2.3f}'.format(t))"
   ]
  },
  {
   "cell_type": "markdown",
   "metadata": {},
   "source": [
    "Examine type-II error ($H_{1}$)\n",
    "\n",
    "Assume $H_{1}$ is true and let us find the power.\n",
    "\n",
    "Here we pick $\\mu \\neq \\mu_{0}$ and assume an std $\\sigma$. So-called noncentral parameter $\\lambda$ will be important in the discussions below.\n",
    "\n",
    "$$\\begin{align}\n",
    "\\Delta \\quad & = &\\quad \\frac{\\mu - \\mu_{0}}{\\sigma}\\\\\n",
    "\\lambda \\quad & = &\\quad \\sqrt{N}\\Delta\n",
    "\\end{align}$$\n",
    "\n",
    "The intension of this quantity is clear, however, how to pick this $\\sigma$ remains to be discussed. For now, let us suppose we have picked a $\\sigma$. THe power is \n",
    "\n",
    "$$\\begin{align}\n",
    "1 - \\beta \\quad & = &\\quad Pr\\big(|t_{0}| \\ge t(\\phi, P)\\big)\\\\\n",
    "\\quad & = &\\quad Pr\\big(t_{0} \\le -t(\\phi, \\alpha)\\big) + Pr\\big(t_{0} \\ge t(\\phi, \\alpha)\\big)\\\\\n",
    "\\end{align}$$\n",
    "\n",
    "Using an approximation, we can convert this problem into dealing with the standard normal distributin instead. Namely,\n",
    "\n",
    "$$\\begin{align}\n",
    "Pr\\big(t' \\le w \\big) \\quad & \\approx &\\quad Pr\\bigg(u \\le \\frac{w(1 - 1/(4\\phi)) - \\lambda}{\\sqrt{1 + w^{2}/(2\\phi)}} \\bigg)\\\\\n",
    "(t: student's t distribution) \\quad &  &\\quad (u: standard\\, normal\\, distribution)\n",
    "\\end{align}$$\n",
    "\n",
    "Here, \n",
    "\n",
    "$$\\begin{align}\n",
    "u \\quad & = &\\quad \\frac{\\bar{x} - \\mu}{\\sqrt{\\sigma^{2}/N}}\\\\\n",
    "t_{0} \\quad & = &\\quad  t'(\\phi, \\lambda)\n",
    "\\end{align}$$\n",
    "\n",
    ", where $t'(\\phi, \\lambda)$ is noncentral t distribution with dof $\\phi$ and noncentral parameter $\\lambda$.\n",
    "\n",
    "$$\\begin{align}\n",
    "t_{0} \\quad & = &\\quad \\frac{\\bar{x} - \\mu_{0}}{\\sqrt{V/N}}\n",
    "\\quad & = &\\quad \\frac{\\bar{x} - \\mu}{\\sqrt{V/N}} + \\frac{\\mu - \\mu_{0}}{\\sqrt{V/N}}\n",
    "\\quad & \\Rightarrow &\\quad t + \\lambda\n",
    "\\end{align}$$\n"
   ]
  },
  {
   "cell_type": "code",
   "execution_count": 183,
   "metadata": {},
   "outputs": [
    {
     "data": {
      "image/png": "[encoded data removed]",
      "text/plain": [
       "<matplotlib.figure.Figure at 0x112be1358>"
      ]
     },
     "metadata": {},
     "output_type": "display_data"
    }
   ],
   "source": [
    "beta = 0.1\n",
    "pwr = 1 - beta\n",
    "deltas = np.arange(-1.0, 1.01, 0.01)\n",
    "Ns = [x**2 for x in range(3, 7)]\n",
    "\n",
    "plt.rcParams['figure.figsize'] = (5.0, 5.0)\n",
    "for N in Ns:\n",
    "    ta2 = spst.t.ppf([1 - a/2, a/2], df=N-1)\n",
    "    lmd = np.sqrt(N) * deltas\n",
    "    power = spst.nct.cdf(ta2[1], nc=lmd, df=N-1)\n",
    "    power += 1 - spst.nct.cdf(ta2[0], nc=lmd, df=N-1)\n",
    "    plt.axhline(1, lw=0.2, color=(0., 0., 0.))\n",
    "    plt.axhline(0, lw=0.2, color=(0., 0., 0.))\n",
    "    plt.plot(deltas, power, '-', label='N = {}'.format(N))\n",
    "    plt.xlim((-1., 1.))\n",
    "    plt.ylim((-0.05, 1.05))\n",
    "    plt.legend(loc='best')\n",
    "    plt.xlabel('Delta')\n",
    "    plt.ylabel('power')\n",
    "    plt.title('type-II')"
   ]
  },
  {
   "cell_type": "markdown",
   "metadata": {},
   "source": [
    "## Design of sample size according to a specified power\n",
    "\n",
    "The power is expressed as\n",
    "\n",
    "$$\\begin{align}\n",
    "1 - \\beta \\quad & = &\\quad Pr\\big(t_{0} \\le -t(\\phi, \\alpha)\\big) + Pr\\big(t_{0} \\ge t(\\phi, \\alpha)\\big)\\\\\n",
    "\\end{align}$$\n",
    "\n",
    ", where\n",
    "\n",
    "$$\\begin{align}\n",
    "t_{0} \\quad & = &\\quad \\frac{\\bar{x} - \\mu_{0}}{\\sqrt{V/N}}\n",
    "\\quad & = &\\quad \\frac{\\bar{x} - \\mu}{\\sqrt{V/N}} + \\frac{\\mu - \\mu_{0}}{\\sqrt{V/N}}\n",
    "\\quad & \\Rightarrow &\\quad t + \\lambda\n",
    "\\end{align}$$\n",
    "\n",
    "For the specified power $1-\\beta$ and $\\lambda = \\sqrt{N}\\Delta$, the required sample size is \n",
    "\n",
    "$$\\begin{align}\n",
    "N \\quad & \\approx &\\quad \\bigg(\\frac{z_{\\alpha/2} - z_{1-\\beta}}{\\Delta}\\bigg)^{2} + \\frac{z_{\\alpha/2}^{2}}{2}\n",
    "\\end{align}$$\n"
   ]
  },
  {
   "cell_type": "code",
   "execution_count": 217,
   "metadata": {},
   "outputs": [
    {
     "name": "stdout",
     "output_type": "stream",
     "text": [
      "power = 0.90, delta = 0.200\n",
      "N = 265 (Napp = 264.606)\n",
      "\n"
     ]
    }
   ],
   "source": [
    "dd = 0.2 # delta\n",
    "a = 0.05 # significance level\n",
    "b = 0.1  # prob. type-II error.\n",
    "\n",
    "za = spst.norm.ppf(1 - a/2)\n",
    "zb = spst.norm.ppf(b)\n",
    "Napp = ((za - zb)/dd)**2 + 0.5*za**2 # Fisher\n",
    "\n",
    "# numerical search\n",
    "N = 1000\n",
    "dfs = np.arange(1, N + 1)\n",
    "lmd = np.sqrt(dfs + 1) * dd  \n",
    "tasr = spst.t.ppf(1 - a/2, df=dfs)\n",
    "pwrs = 1 - spst.nct.cdf(tasr, nc=lmd, df=dfs)\n",
    "tasl = spst.t.ppf(a/2, df=dfs)\n",
    "pwrs += spst.nct.cdf(tasl, nc=lmd, df=dfs)\n",
    "pwr = 1 - b\n",
    "N_nm = find_sample_size(pwr, pwrs, dfs)\n",
    "print('power = {:1.2f}, delta = {:1.3f}'.format(pwr, dd))\n",
    "print('N = {:2d} (Napp = {:2.3f})\\n'.format(N_nm, Napp))"
   ]
  },
  {
   "cell_type": "code",
   "execution_count": 218,
   "metadata": {
    "collapsed": true
   },
   "outputs": [],
   "source": [
    "def find_sample_size(pwr, pwrs, dfs):\n",
    "    idx1 = 0\n",
    "    idx4 = N - 1\n",
    "    idx2 = idx1 + (idx4 - idx1) // 3\n",
    "    idx3 = idx4 - (idx4 - idx1) // 3\n",
    "    while True:\n",
    "        if pwrs[idx1] == pwr:\n",
    "            idx = idx1\n",
    "            break\n",
    "        elif pwrs[idx2] == pwr:\n",
    "            idx = idx2\n",
    "            break\n",
    "        elif pwrs[idx3] == pwr:\n",
    "            idx = idx3\n",
    "            break\n",
    "        elif pwrs[idx4] == pwr:\n",
    "            idx = idx4\n",
    "            break\n",
    "\n",
    "        if pwrs[idx2] > pwr and pwrs[idx3] > pwr:\n",
    "            idx2 = idx1\n",
    "            idx4 = idx3\n",
    "            idx3 = idx4 - (idx4 - idx1) // 3\n",
    "        elif pwrs[idx2] < pwr and pwrs[idx3] < pwr:\n",
    "            idx3 = idx4\n",
    "            idx1 = idx2\n",
    "            idx2 = idx1 + (idx4 - idx1) // 3\n",
    "        else:\n",
    "            if idx4 <= idx1 + 3:\n",
    "                idx1 = idx2\n",
    "                idx4 = idx3\n",
    "                idx2 = idx1 + 1\n",
    "                idx3 = idx4 - 1\n",
    "            else:\n",
    "                idx1 = idx2\n",
    "                idx4 = idx3\n",
    "                idx2 = idx1 + (idx4 - idx1) // 3\n",
    "                idx3 = idx4 - (idx4 - idx1) // 3\n",
    "        #print('{:6d}, {:6d}, {:6d}, {:6d}'.format(dfs[idx1],dfs[idx2],dfs[idx3],dfs[idx4]))\n",
    "        #print('{:1.4f}, {:1.4f}, {:1.4f}, {:1.4f}\\n'.format(pwrs[idx1],pwrs[idx2],pwrs[idx3],pwrs[idx4]))\n",
    "        \n",
    "        if idx2 + 1 >= idx3:\n",
    "            if pwrs[idx1] < pwr and pwrs[idx2] >= pwr:\n",
    "                idx = idx2\n",
    "                break\n",
    "            elif pwrs[idx2] < pwr and pwrs[idx3] >= pwr:\n",
    "                idx = idx3\n",
    "                break\n",
    "            elif pwrs[idx3] < pwr and pwrs[idx4] >= pwr:\n",
    "                idx = idx4\n",
    "                break\n",
    "    return dfs[idx] + 1 # N - 1 "
   ]
  },
  {
   "cell_type": "code",
   "execution_count": null,
   "metadata": {
    "collapsed": true
   },
   "outputs": [],
   "source": []
  },
  {
   "cell_type": "code",
   "execution_count": null,
   "metadata": {
    "collapsed": true
   },
   "outputs": [],
   "source": []
  },
  {
   "cell_type": "code",
   "execution_count": null,
   "metadata": {
    "collapsed": true
   },
   "outputs": [],
   "source": []
  },
  {
   "cell_type": "code",
   "execution_count": null,
   "metadata": {
    "collapsed": true
   },
   "outputs": [],
   "source": []
  },
  {
   "cell_type": "markdown",
   "metadata": {},
   "source": [
    "## hypothesis\n",
    "\n",
    "$H_{0}$: mean $\\mu = \\mu_{0}$\n",
    "\n",
    "$H_{1}$: mean $\\mu > \\mu_{0}$\n",
    "\n",
    "significance level: $\\alpha = 0.05$ (probability to reject $H_{0}$)"
   ]
  },
  {
   "cell_type": "code",
   "execution_count": 30,
   "metadata": {},
   "outputs": [
    {
     "name": "stdout",
     "output_type": "stream",
     "text": [
      "population mean = 9.565\n",
      "t = -0.064\n"
     ]
    }
   ],
   "source": [
    "N = 20         # number of samples.\n",
    "sg_true = 2.0  # true sigma\n",
    "mu_true = 10.0 # true mean\n",
    "mu_test = 9.6  # mu0\n",
    "sg_test = 1.8  # sigma0\n",
    "\n",
    "x = np.random.normal(loc=mu_true, scale=sg_true, size=N)\n",
    "xm = x.mean()\n",
    "S = ((x - xm)**2).sum()\n",
    "V = S / (N - 1)\n",
    "t = (xm - mu_test) / np.sqrt(V/N)\n",
    "print('population mean = {:2.3f}'.format(xm))\n",
    "print('t = {:2.3f}'.format(t))"
   ]
  },
  {
   "cell_type": "markdown",
   "metadata": {},
   "source": [
    "Examine type-I error ($H_{1}$).\n",
    "\n",
    "Assume $H_{0}$ is true and find the critical region.\n",
    "\n",
    "Here we test if $\\mu > \\mu_{0}$.\n",
    "\n",
    "$$\\begin{align}\n",
    "\\alpha \\quad & = &\\quad Pr\\big(t_{0} \\ge t(\\phi, 2\\alpha)\\big)\\\\\n",
    "\\end{align}$$"
   ]
  },
  {
   "cell_type": "code",
   "execution_count": 44,
   "metadata": {},
   "outputs": [
    {
     "name": "stdout",
     "output_type": "stream",
     "text": [
      "dof       = 35\n",
      "t_(1-a)   = 1.6896\n",
      "t         = -3.413\n"
     ]
    }
   ],
   "source": [
    "a = 0.05\n",
    "ta = spst.t.ppf([1 - a], df=N-1)\n",
    "print('dof       = {}'.format(N - 1))\n",
    "print('t_(1-a)   = {:1.4f}'.format(ta[0]))\n",
    "print('t         = {:2.3f}'.format(t))"
   ]
  },
  {
   "cell_type": "markdown",
   "metadata": {},
   "source": [
    "Examine type-II error ($H_{1}$)\n",
    "\n",
    "Assume $H_{1}$ is true and let us find the power.\n",
    "\n",
    "$$\\begin{align}\n",
    "1 - \\beta \\quad & = &\\quad Pr\\big(t_{0} \\ge t(\\phi, 2\\alpha)\\big)\\\\\n",
    "\\end{align}$$"
   ]
  },
  {
   "cell_type": "code",
   "execution_count": 184,
   "metadata": {},
   "outputs": [
    {
     "data": {
      "image/png": "[encoded data removed]",
      "text/plain": [
       "<matplotlib.figure.Figure at 0x112be1a90>"
      ]
     },
     "metadata": {},
     "output_type": "display_data"
    }
   ],
   "source": [
    "beta = 0.1\n",
    "pwr = 1 - beta\n",
    "deltas = np.arange(-1.0, 1.01, 0.01)\n",
    "Ns = [x**2 for x in range(3, 7)]\n",
    "\n",
    "plt.rcParams['figure.figsize'] = (5.0, 5.0)\n",
    "for N in Ns:\n",
    "    t1a = spst.t.ppf([1 - a], df=N-1)\n",
    "    lmd = np.sqrt(N) * deltas\n",
    "    power = 1 - spst.nct.cdf(t1a[0], nc=lmd, df=N-1)\n",
    "    plt.axhline(1, lw=0.2, color=(0., 0., 0.))\n",
    "    plt.axhline(0, lw=0.2, color=(0., 0., 0.))\n",
    "    plt.plot(deltas, power, '-', label='N = {}'.format(N))\n",
    "    plt.xlim((-1., 1.))\n",
    "    plt.ylim((-0.05, 1.05))\n",
    "    plt.legend(loc='best')\n",
    "    plt.xlabel('Delta')\n",
    "    plt.ylabel('power')\n",
    "    plt.title('type-II')"
   ]
  },
  {
   "cell_type": "markdown",
   "metadata": {},
   "source": [
    "### Design of sample size according to a specified power\n",
    "\n",
    "The power is expressed as\n",
    "\n",
    "$$\\begin{align}\n",
    "1 - \\beta \\quad & = &\\quad Pr\\big(t_{0} \\ge t(\\phi, 2\\alpha)\\big)\\\\\n",
    "\\end{align}$$\n",
    "\n",
    "For the specified power $1-\\beta$ and $\\lambda = \\sqrt{N}\\Delta$, the required sample size is \n",
    "\n",
    "$$\\begin{align}\n",
    "N \\quad & \\approx &\\quad \\bigg(\\frac{z_{\\alpha} - z_{1-\\beta}}{\\Delta}\\bigg)^{2} + \\frac{z_{\\alpha}^{2}}{2}\n",
    "\\end{align}$$\n"
   ]
  },
  {
   "cell_type": "code",
   "execution_count": 219,
   "metadata": {
    "scrolled": false
   },
   "outputs": [
    {
     "name": "stdout",
     "output_type": "stream",
     "text": [
      "power = 0.95, delta = 0.200\n",
      "N = 272 (Napp = 271.907)\n",
      "\n"
     ]
    }
   ],
   "source": [
    "dd = 0.2 # delta\n",
    "a = 0.05 # significance level\n",
    "b = 0.05  # prob. type-II error.\n",
    "\n",
    "za = spst.norm.ppf(1 - a)\n",
    "zb = spst.norm.ppf(b)\n",
    "Napp = ((za - zb)/dd)**2 + 0.5*za**2 # Fisher\n",
    "\n",
    "# numerical search\n",
    "N = 1000\n",
    "dfs = np.arange(1, N + 1)\n",
    "lmd = np.sqrt(dfs + 1)*dd\n",
    "tas = spst.t.ppf(1 - a, df=dfs)\n",
    "pwrs = 1 - spst.nct.cdf(tas, nc=lmd, df=dfs)\n",
    "pwr = 1 - b\n",
    "N_nm = find_sample_size(pwr, pwrs, dfs) \n",
    "print('power = {:1.2f}, delta = {:1.3f}'.format(pwr, dd))\n",
    "print('N = {:2d} (Napp = {:2.3f})\\n'.format(N_nm, Napp))"
   ]
  },
  {
   "cell_type": "code",
   "execution_count": null,
   "metadata": {
    "collapsed": true
   },
   "outputs": [],
   "source": []
  },
  {
   "cell_type": "code",
   "execution_count": null,
   "metadata": {
    "collapsed": true
   },
   "outputs": [],
   "source": []
  },
  {
   "cell_type": "code",
   "execution_count": null,
   "metadata": {
    "collapsed": true
   },
   "outputs": [],
   "source": []
  },
  {
   "cell_type": "markdown",
   "metadata": {},
   "source": [
    "## hypothesis\n",
    "\n",
    "$H_{0}$: mean $\\mu = \\mu_{0}$\n",
    "\n",
    "$H_{1}$: mean $\\mu < \\mu_{0}$\n",
    "\n",
    "significance level: $\\alpha = 0.05$ (probability to reject $H_{0}$)"
   ]
  },
  {
   "cell_type": "code",
   "execution_count": 46,
   "metadata": {},
   "outputs": [
    {
     "name": "stdout",
     "output_type": "stream",
     "text": [
      "population mean = 9.493\n",
      "t = -2.056\n"
     ]
    }
   ],
   "source": [
    "N = 20         # number of samples.\n",
    "sg_true = 2.0  # true sigma\n",
    "mu_true = 10.0 # true mean\n",
    "mu_test = 10.4  # mu0\n",
    "sg_test = 1.8  # sigma0\n",
    "\n",
    "x = np.random.normal(loc=mu_true, scale=sg_true, size=N)\n",
    "xm = x.mean()\n",
    "S = ((x - xm)**2).sum()\n",
    "V = S / (N - 1)\n",
    "t = (xm - mu_test) / np.sqrt(V/N)\n",
    "print('population mean = {:2.3f}'.format(xm))\n",
    "print('t = {:2.3f}'.format(t))"
   ]
  },
  {
   "cell_type": "markdown",
   "metadata": {},
   "source": [
    "Examine type-I error ($H_{1}$).\n",
    "\n",
    "Assume $H_{0}$ is true and find the critical region.\n",
    "\n",
    "Here we test if $\\mu < \\mu_{0}$.\n",
    "\n",
    "$$\\begin{align}\n",
    "\\alpha \\quad & = &\\quad Pr\\big(t_{0} \\le t(\\phi, 2\\alpha)\\big)\\\\\n",
    "\\end{align}$$"
   ]
  },
  {
   "cell_type": "code",
   "execution_count": 47,
   "metadata": {},
   "outputs": [
    {
     "name": "stdout",
     "output_type": "stream",
     "text": [
      "dof     = 19\n",
      "t_(a)   = -1.7291\n",
      "t       = -2.056\n"
     ]
    }
   ],
   "source": [
    "a = 0.05\n",
    "ta = spst.t.ppf([a], df=N-1)\n",
    "print('dof     = {}'.format(N - 1))\n",
    "print('t_(a)   = {:1.4f}'.format(ta[0]))\n",
    "print('t       = {:2.3f}'.format(t))"
   ]
  },
  {
   "cell_type": "markdown",
   "metadata": {},
   "source": [
    "Examine type-II error ($H_{1}$)\n",
    "\n",
    "Assume $H_{1}$ is true and let us find the power.\n",
    "\n",
    "$$\\begin{align}\n",
    "1 - \\beta \\quad & = &\\quad Pr\\big(t_{0} \\le t(\\phi, 1 - 2\\alpha)\\big)\\\\\n",
    "\\end{align}$$"
   ]
  },
  {
   "cell_type": "code",
   "execution_count": 185,
   "metadata": {},
   "outputs": [
    {
     "data": {
      "image/png": "[encoded data removed]",
      "text/plain": [
       "<matplotlib.figure.Figure at 0x112cb2550>"
      ]
     },
     "metadata": {},
     "output_type": "display_data"
    }
   ],
   "source": [
    "beta = 0.1\n",
    "pwr = 1 - beta\n",
    "deltas = np.arange(-1.0, 1.01, 0.01)\n",
    "Ns = [x**2 for x in range(3, 7)]\n",
    "\n",
    "plt.rcParams['figure.figsize'] = (5.0, 5.0)\n",
    "for N in Ns:\n",
    "    ta = spst.t.ppf([a], df=N-1)\n",
    "    lmd = np.sqrt(N) * deltas\n",
    "    power = spst.nct.cdf(ta[0], nc=lmd, df=N-1)\n",
    "    plt.axhline(1, lw=0.2, color=(0., 0., 0.))\n",
    "    plt.axhline(0, lw=0.2, color=(0., 0., 0.))\n",
    "    plt.plot(deltas, power, '-', label='N = {}'.format(N))\n",
    "    plt.xlim((-1., 1.))\n",
    "    plt.ylim((-0.05, 1.05))\n",
    "    plt.legend(loc='best')\n",
    "    plt.xlabel('Delta')\n",
    "    plt.ylabel('power')\n",
    "    plt.title('type-II')"
   ]
  },
  {
   "cell_type": "markdown",
   "metadata": {},
   "source": [
    "### Design of sample size according to a specified power\n",
    "\n",
    "The power is expressed as\n",
    "\n",
    "$$\\begin{align}\n",
    "1 - \\beta \\quad & = &\\quad Pr\\big(t_{0} \\le t(\\phi, 1-2\\alpha)\\big)\\\\\n",
    "\\end{align}$$\n",
    "\n",
    "For the specified power $1-\\beta$ and $\\lambda = \\sqrt{N}\\Delta$, the required sample size is \n",
    "\n",
    "$$\\begin{align}\n",
    "N \\quad & \\approx &\\quad \\bigg(\\frac{z_{\\alpha} - z_{1-\\beta}}{\\Delta}\\bigg)^{2} + \\frac{z_{\\alpha}^{2}}{2}\n",
    "\\end{align}$$\n",
    "\n"
   ]
  },
  {
   "cell_type": "code",
   "execution_count": 220,
   "metadata": {
    "scrolled": false
   },
   "outputs": [
    {
     "name": "stdout",
     "output_type": "stream",
     "text": [
      "power = 0.90, delta = 0.800\n",
      "N = 15 (Napp = 14.734)\n",
      "\n"
     ]
    }
   ],
   "source": [
    "dd = 0.8 # delta\n",
    "a = 0.05 # significance level\n",
    "b = 0.10  # prob. type-II error.\n",
    "\n",
    "za = spst.norm.ppf(a)\n",
    "zb = spst.norm.ppf(1 - b)\n",
    "Napp = ((za - zb)/dd)**2 + 0.5*za**2 # Fisher\n",
    "\n",
    "# numerical search\n",
    "N = 1000\n",
    "dfs = np.arange(1, N + 1)\n",
    "tas = spst.t.ppf(a, df=dfs)\n",
    "lmd = -np.sqrt(dfs + 1)*dd\n",
    "pwrs = spst.nct.cdf(tas, nc=lmd, df=dfs)\n",
    "pwr = 1 - b\n",
    "N_nm = find_sample_size(pwr, pwrs, dfs)\n",
    "print('power = {:1.2f}, delta = {:1.3f}'.format(pwr, dd))\n",
    "print('N = {:2d} (Napp = {:2.3f})\\n'.format(N_nm, Napp))"
   ]
  },
  {
   "cell_type": "code",
   "execution_count": null,
   "metadata": {
    "collapsed": true
   },
   "outputs": [],
   "source": []
  },
  {
   "cell_type": "code",
   "execution_count": null,
   "metadata": {
    "collapsed": true
   },
   "outputs": [],
   "source": []
  },
  {
   "cell_type": "code",
   "execution_count": null,
   "metadata": {
    "collapsed": true
   },
   "outputs": [],
   "source": []
  },
  {
   "cell_type": "code",
   "execution_count": null,
   "metadata": {
    "collapsed": true
   },
   "outputs": [],
   "source": []
  },
  {
   "cell_type": "markdown",
   "metadata": {},
   "source": [
    "## exercises 4.1 - 4.10"
   ]
  },
  {
   "cell_type": "code",
   "execution_count": 187,
   "metadata": {},
   "outputs": [
    {
     "name": "stdout",
     "output_type": "stream",
     "text": [
      "population mean = 6.380\n",
      "S               = 9.736\n",
      "\n",
      "dof       =  9\n",
      "t         =  4.1958\n",
      "t_(a/2)   =  2.2622\n",
      "t_(1-a/2) = -2.2622\n"
     ]
    }
   ],
   "source": [
    "x = np.array([6.2, 4.8, 7.3, 5.5, 6.5, 4.9, 6.8, 7.9, 6.6, 7.3])\n",
    "\n",
    "N = x.shape[0]\n",
    "xm = x.mean()\n",
    "S = ((x - xm)**2).sum()\n",
    "V = S/(N -1)\n",
    "print('population mean = {:2.3f}'.format(xm))\n",
    "print('S               = {:2.3f}'.format(S))\n",
    "\n",
    "a = 0.05\n",
    "mu0 = 5.0\n",
    "t = (xm - mu0)/np.sqrt(V/N)\n",
    "ta2 = spst.t.ppf([1 - a/2, a/2], df=N-1)\n",
    "\n",
    "print('\\ndof       =  {}'.format(N - 1))\n",
    "print('t         =  {:1.4f}'.format(t))\n",
    "print('t_(a/2)   =  {:1.4f}'.format(ta2[0]))\n",
    "print('t_(1-a/2) = {:1.4f}'.format(ta2[1]))"
   ]
  },
  {
   "cell_type": "code",
   "execution_count": null,
   "metadata": {
    "collapsed": true
   },
   "outputs": [],
   "source": []
  },
  {
   "cell_type": "code",
   "execution_count": 188,
   "metadata": {},
   "outputs": [
    {
     "name": "stdout",
     "output_type": "stream",
     "text": [
      "population mean = 10.500\n",
      "S               = 4.840\n",
      "\n",
      "dof   =  8\n",
      "t     =  1.9285\n",
      "t_a   =  1.8595\n"
     ]
    }
   ],
   "source": [
    "x = np.array([10.8, 11.2, 9.7, 9.9, 12.0, 9.6, 10.5, 10.7, 10.1])\n",
    "\n",
    "N = x.shape[0]\n",
    "xm = x.mean()\n",
    "S = ((x - xm)**2).sum()\n",
    "V = S/(N -1)\n",
    "print('population mean = {:2.3f}'.format(xm))\n",
    "print('S               = {:2.3f}'.format(S))\n",
    "\n",
    "a = 0.05\n",
    "mu0 = 10.0\n",
    "t = (xm - mu0)/np.sqrt(V/N)\n",
    "ta = spst.t.ppf([1 - a], df=N-1)\n",
    "\n",
    "print('\\ndof   =  {}'.format(N - 1))\n",
    "print('t     =  {:1.4f}'.format(t))\n",
    "print('t_a   =  {:1.4f}'.format(ta[0]))"
   ]
  },
  {
   "cell_type": "code",
   "execution_count": null,
   "metadata": {
    "collapsed": true
   },
   "outputs": [],
   "source": []
  },
  {
   "cell_type": "code",
   "execution_count": 189,
   "metadata": {},
   "outputs": [
    {
     "name": "stdout",
     "output_type": "stream",
     "text": [
      "population mean = 19.500\n",
      "S               = 26.000\n",
      "\n",
      "dof   =  7\n",
      "t     =  -0.7338\n",
      "t_a   =  -1.8946\n"
     ]
    }
   ],
   "source": [
    "x = np.array([21, 19, 16, 19, 22, 18, 20, 21])\n",
    "\n",
    "N = x.shape[0]\n",
    "xm = x.mean()\n",
    "S = ((x - xm)**2).sum()\n",
    "V = S/(N -1)\n",
    "print('population mean = {:2.3f}'.format(xm))\n",
    "print('S               = {:2.3f}'.format(S))\n",
    "\n",
    "a = 0.05\n",
    "mu0 = 20.0\n",
    "t = (xm - mu0)/np.sqrt(V/N)\n",
    "ta = spst.t.ppf([a], df=N-1)\n",
    "\n",
    "print('\\ndof   =  {}'.format(N - 1))\n",
    "print('t     =  {:1.4f}'.format(t))\n",
    "print('t_a   =  {:1.4f}'.format(ta[0]))"
   ]
  },
  {
   "cell_type": "code",
   "execution_count": null,
   "metadata": {
    "collapsed": true
   },
   "outputs": [],
   "source": []
  },
  {
   "cell_type": "code",
   "execution_count": 190,
   "metadata": {},
   "outputs": [
    {
     "name": "stdout",
     "output_type": "stream",
     "text": [
      "N = 10, power = 0.29318\n",
      "N = 20, power = 0.56450\n"
     ]
    }
   ],
   "source": [
    "Ns = [10, 20]\n",
    "deltas = [0.5, 0.5]\n",
    "mu0 = 5.0\n",
    "a = 0.05\n",
    "\n",
    "for delta, N in zip(deltas, Ns):\n",
    "    phi = N - 1\n",
    "    ta2 = spst.t.ppf([1 - a/2, a/2], df=phi)\n",
    "    lmd = np.sqrt(N) * delta\n",
    "    pwr = 1 - spst.nct.cdf(x=ta2[0], nc=lmd, df=phi)\n",
    "    pwr += spst.nct.cdf(x=ta2[1], nc=lmd, df=phi)\n",
    "    print('N = {:2d}, power = {:1.5f}'.format(N, pwr))"
   ]
  },
  {
   "cell_type": "code",
   "execution_count": null,
   "metadata": {
    "collapsed": true
   },
   "outputs": [],
   "source": []
  },
  {
   "cell_type": "code",
   "execution_count": 191,
   "metadata": {},
   "outputs": [
    {
     "name": "stdout",
     "output_type": "stream",
     "text": [
      "N =  9, power = 0.86181\n",
      "N =  9, power = 0.99260\n"
     ]
    }
   ],
   "source": [
    "Ns = [9, 9]\n",
    "deltas = [1.0, 1.5]\n",
    "mu0 = 10.0\n",
    "a = 0.05\n",
    "\n",
    "for delta, N in zip(deltas, Ns):\n",
    "    phi = N - 1\n",
    "    ta  = spst.t.ppf([1 - a], df=phi)\n",
    "    lmd = np.sqrt(N) * delta\n",
    "    pwr = 1 - spst.nct.cdf(x=ta[0], nc=lmd, df=phi)\n",
    "    print('N = {:2d}, power = {:1.5f}'.format(N, pwr))"
   ]
  },
  {
   "cell_type": "code",
   "execution_count": null,
   "metadata": {
    "collapsed": true
   },
   "outputs": [],
   "source": []
  },
  {
   "cell_type": "code",
   "execution_count": 192,
   "metadata": {},
   "outputs": [
    {
     "name": "stdout",
     "output_type": "stream",
     "text": [
      "N =  8, power = 0.81502\n",
      "N = 16, power = 0.98485\n"
     ]
    }
   ],
   "source": [
    "Ns = [8, 16]\n",
    "deltas = [-1.0, -1.0]\n",
    "mu0 = 10.0\n",
    "a = 0.05\n",
    "\n",
    "for delta, N in zip(deltas, Ns):\n",
    "    phi = N - 1\n",
    "    ta  = spst.t.ppf([a], df=phi)\n",
    "    lmd = np.sqrt(N) * delta\n",
    "    pwr = spst.nct.cdf(x=ta[0], nc=lmd, df=phi)\n",
    "    print('N = {:2d}, power = {:1.5f}'.format(N, pwr))"
   ]
  },
  {
   "cell_type": "code",
   "execution_count": null,
   "metadata": {
    "collapsed": true
   },
   "outputs": [],
   "source": []
  },
  {
   "cell_type": "code",
   "execution_count": 224,
   "metadata": {},
   "outputs": [
    {
     "name": "stdout",
     "output_type": "stream",
     "text": [
      "power = 0.900\n",
      "delta = 0.800\n",
      "N     = 19\n",
      "N_app = 18.339\n",
      "\n",
      "power = 0.950\n",
      "delta = 0.800\n",
      "N     = 23\n",
      "N_app = 22.225\n",
      "\n"
     ]
    }
   ],
   "source": [
    "deltas = [0.8] # delta\n",
    "a = 0.05 # significance level\n",
    "powers = [0.9, 0.95] # prob. type-II error.\n",
    "\n",
    "for pwr in powers:\n",
    "    for dd in deltas:\n",
    "        za = spst.norm.ppf(1 - a/2)\n",
    "        zb = spst.norm.ppf(1 - pwr)\n",
    "        Napp = ((za - zb)/dd)**2 + 0.5*za**2 # Fisher\n",
    "\n",
    "        # numerical search\n",
    "        N = 1000\n",
    "        dfs = np.arange(1, N + 1)\n",
    "        lmd = np.sqrt(dfs + 1) * dd  \n",
    "        tasr = spst.t.ppf(1 - a/2, df=dfs)\n",
    "        pwrs = 1 - spst.nct.cdf(tasr, nc=lmd, df=dfs)\n",
    "        tasl = spst.t.ppf(a/2, df=dfs)\n",
    "        pwrs += spst.nct.cdf(tasl, nc=lmd, df=dfs)\n",
    "        N_nm = find_sample_size(pwr, pwrs, dfs)\n",
    "\n",
    "        print('power = {:1.3f}\\ndelta = {:1.3f}'.format(pwr, dd))\n",
    "        print('N     = {:2d}\\nN_app = {:2.3f}\\n'.format(N_nm, Napp))"
   ]
  },
  {
   "cell_type": "code",
   "execution_count": null,
   "metadata": {
    "collapsed": true
   },
   "outputs": [],
   "source": []
  },
  {
   "cell_type": "code",
   "execution_count": 222,
   "metadata": {},
   "outputs": [
    {
     "name": "stdout",
     "output_type": "stream",
     "text": [
      "power = 0.900\n",
      "delta = 1.000\n",
      "N     = 11\n",
      "N_app = 9.917\n",
      "\n",
      "power = 0.900\n",
      "delta = 0.500\n",
      "N     = 36\n",
      "N_app = 35.608\n",
      "\n"
     ]
    }
   ],
   "source": [
    "deltas = [1.0, 0.5] # delta\n",
    "a = 0.05 # significance level\n",
    "powers = [0.9] # prob. type-II error.\n",
    "\n",
    "for pwr in powers:\n",
    "    for dd in deltas:\n",
    "        za = spst.norm.ppf(1 - a)\n",
    "        zb = spst.norm.ppf(1 - pwr)\n",
    "        Napp = ((za - zb)/dd)**2 + 0.5*za**2 # Fisher\n",
    "\n",
    "        # numerical search\n",
    "        N = 1000\n",
    "        dfs = np.arange(1, N + 1)\n",
    "        lmd = np.sqrt(dfs + 1) * dd  \n",
    "        tasr = spst.t.ppf(1 - a, df=dfs)\n",
    "        pwrs = 1 - spst.nct.cdf(tasr, nc=lmd, df=dfs)\n",
    "        N_nm = find_sample_size(pwr, pwrs, dfs)\n",
    "\n",
    "        print('power = {:1.3f}\\ndelta = {:1.3f}'.format(pwr, dd))\n",
    "        print('N     = {:2d}\\nN_app = {:2.3f}\\n'.format(N_nm, Napp))"
   ]
  },
  {
   "cell_type": "code",
   "execution_count": null,
   "metadata": {
    "collapsed": true
   },
   "outputs": [],
   "source": []
  },
  {
   "cell_type": "code",
   "execution_count": 223,
   "metadata": {},
   "outputs": [
    {
     "name": "stdout",
     "output_type": "stream",
     "text": [
      "power = 0.900\n",
      "delta = -1.200\n",
      "N     =  8\n",
      "N_app = 7.300\n",
      "\n",
      "power = 0.950\n",
      "delta = -1.500\n",
      "N     =  7\n",
      "N_app = 6.163\n",
      "\n"
     ]
    }
   ],
   "source": [
    "deltas = [-1.2, -1.5] # delta\n",
    "a = 0.05 # significance level\n",
    "powers = [0.9, 0.95] # prob. type-II error.\n",
    "\n",
    "for pwr, dd in zip(powers, deltas):\n",
    "        za = spst.norm.ppf(a)\n",
    "        zb = spst.norm.ppf(pwr)\n",
    "        Napp = ((za - zb)/dd)**2 + 0.5*za**2 # Fisher\n",
    "\n",
    "        # numerical search\n",
    "        N = 1000\n",
    "        dfs = np.arange(1, N + 1)\n",
    "        lmd = np.sqrt(dfs + 1) * dd  \n",
    "        tasl = spst.t.ppf(a, df=dfs)\n",
    "        pwrs = spst.nct.cdf(tasl, nc=lmd, df=dfs)\n",
    "        N_nm = find_sample_size(pwr, pwrs, dfs)\n",
    "\n",
    "        print('power = {:1.3f}\\ndelta = {:1.3f}'.format(pwr, dd))\n",
    "        print('N     = {:2d}\\nN_app = {:2.3f}\\n'.format(N_nm, Napp))"
   ]
  },
  {
   "cell_type": "code",
   "execution_count": null,
   "metadata": {
    "collapsed": true
   },
   "outputs": [],
   "source": []
  },
  {
   "cell_type": "code",
   "execution_count": null,
   "metadata": {
    "collapsed": true
   },
   "outputs": [],
   "source": []
  },
  {
   "cell_type": "code",
   "execution_count": null,
   "metadata": {
    "collapsed": true
   },
   "outputs": [],
   "source": []
  },
  {
   "cell_type": "code",
   "execution_count": null,
   "metadata": {
    "collapsed": true
   },
   "outputs": [],
   "source": []
  },
  {
   "cell_type": "code",
   "execution_count": null,
   "metadata": {
    "collapsed": true
   },
   "outputs": [],
   "source": []
  },
  {
   "cell_type": "code",
   "execution_count": null,
   "metadata": {
    "collapsed": true
   },
   "outputs": [],
   "source": []
  },
  {
   "cell_type": "code",
   "execution_count": null,
   "metadata": {
    "collapsed": true
   },
   "outputs": [],
   "source": []
  },
  {
   "cell_type": "code",
   "execution_count": null,
   "metadata": {
    "collapsed": true
   },
   "outputs": [],
   "source": []
  },
  {
   "cell_type": "code",
   "execution_count": null,
   "metadata": {
    "collapsed": true
   },
   "outputs": [],
   "source": []
  }
 ],
 "metadata": {
  "kernelspec": {
   "display_name": "Python 3",
   "language": "python",
   "name": "python3"
  },
  "language_info": {
   "codemirror_mode": {
    "name": "ipython",
    "version": 3
   },
   "file_extension": ".py",
   "mimetype": "text/x-python",
   "name": "python",
   "nbconvert_exporter": "python",
   "pygments_lexer": "ipython3",
   "version": "3.6.1"
  }
 },
 "nbformat": 4,
 "nbformat_minor": 2
}
