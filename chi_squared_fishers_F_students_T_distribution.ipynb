{
 "cells": [
  {
   "cell_type": "markdown",
   "metadata": {},
   "source": [
    "# $\\chi^{2}$ distribution\n",
    "\n",
    "The gamma function $\\Gamma(\\alpha)$ and gamma distribution $f(x | \\alpha, \\beta)$ are as follows.\n",
    "\n",
    "$$\\begin{align}\n",
    "\\Gamma(\\alpha) \\quad & = &\\quad \\int_{0}^{\\infty} t^{\\alpha-1}e^{-t} dt \\\\\n",
    "1 \\quad & = &\\quad \\frac{1}{\\Gamma(\\alpha)}\\int_{0}^{\\infty} t^{\\alpha-1}e^{-t} dt \\\\\n",
    "1 \\quad & = &\\quad \\frac{\\beta^{\\alpha}}{\\Gamma(\\alpha)}\\int_{0}^{\\infty} x^{\\alpha-1}e^{-\\beta x} dx \\\\\n",
    "f(x | \\alpha, \\beta) \\quad & = &\\quad \\frac{\\beta^{\\alpha}}{\\Gamma(\\alpha)} x^{\\alpha-1}e^{-\\beta x}  \\quad \\Rightarrow \\quad \\Gamma(\\alpha, \\beta)\n",
    "\\end{align}$$\n",
    "\n",
    "The moment generating function of the gamma distribution is \n",
    "\n",
    "$$\\begin{align}\n",
    "\\langle e^{tx} \\rangle \\quad & = & \\quad e^{tx}\\frac{\\beta^{\\alpha}}{\\Gamma(\\alpha)}\\int_{0}^{\\infty} x^{\\alpha-1}e^{-\\beta x} dx\\\\\n",
    "\\quad & = & \\quad \\frac{\\beta^{\\alpha}}{\\Gamma(\\alpha)}\\int_{0}^{\\infty} x^{\\alpha-1}e^{-(\\beta -t) x} dx\\\\\n",
    "\\quad & = & \\quad \\frac{\\beta^{\\alpha}}{(\\beta -t)^{\\alpha}} \\Bigg[\\frac{(\\beta -t)^{\\alpha}}{\\Gamma(\\alpha)}\\int_{0}^{\\infty} x^{\\alpha-1}e^{-(\\beta -t) x} dx\\Bigg]\\\\\n",
    "\\quad & = & \\quad \\frac{\\beta^{\\alpha}}{(\\beta -t)^{\\alpha}}\\\\\n",
    "\\Rightarrow \\qquad \\langle e^{t\\sum_{i}x_{i}} \\rangle \\quad & = & \\quad \\bigg[\\frac{\\beta}{\\beta - t}\\bigg]^{\\sum_{i}\\alpha_{i}}\\\\\n",
    "\\end{align}$$\n",
    "\n",
    "Taking a standardized parameter $z$, $y = z^{2} \\rightarrow 2zdz = dy \\rightarrow \\frac{1}{2\\sqrt{y}}dy = dz$\n",
    "\n",
    "$$\\begin{align}\n",
    "\\frac{1}{2\\pi}\\int_{-\\infty}^{\\infty} e^{-\\frac{z^{2}}{2}} dz \\quad & = &\\quad \\frac{1}{2\\pi} \\int_{0}^{\\infty} y^{\\frac{1}{2}-1}e^{-\\frac{y}{2}} dy \\quad \\Rightarrow \\quad \\Gamma\\bigg(\\frac{1}{2}, \\frac{1}{2}\\bigg)\n",
    "\\end{align}$$\n",
    "\n",
    "$\\chi^{2}$ distribution appears\n",
    "\n",
    "$$\\begin{align}\n",
    "x_{1}^{2} + x_{2}^{2} + \\cdots + x_{n}^{2} \\quad \\Rightarrow \\quad \\Gamma\\bigg(\\frac{n}{2}, \\frac{1}{2}\\bigg)\n",
    "\\end{align}$$\n",
    "\n",
    "\n"
   ]
  },
  {
   "cell_type": "markdown",
   "metadata": {},
   "source": [
    "# F-distribution\n",
    "\n",
    "Suppose $(x_{1}, \\cdots, x_{n})$ and $(y_{1}, \\cdots, y_{m})$ are sampled. Employing random variabels $X$ following $\\chi_{n}(x)$ and $Y$ following $\\chi_{m}(y)$,\n",
    "\n",
    "$$\\begin{align}\n",
    "\\frac{1}{n}X \\quad & = & \\quad \\frac{1}{n}\\big(x_{1}^{2} + \\cdots + x_{n}^{2}\\big) \\quad \\Rightarrow \\quad \\Gamma\\bigg(\\frac{n}{2}, \\frac{1}{2}\\bigg) \\quad & = & \\quad f(x) \\quad & = & \\quad  \\frac{(\\frac{1}{2})^{\\frac{n}{2}}}{\\Gamma(\\frac{n}{2})} x^{\\frac{n}{2}-1}e^{-\\frac{x}{2}}\\\\\n",
    "\\frac{1}{m}Y \\quad & = & \\quad \\frac{1}{m}\\big(y_{1}^{2} + \\cdots + y_{m}^{2}\\big) \\quad \\Rightarrow \\quad \\Gamma\\bigg(\\frac{m}{2}, \\frac{1}{2}\\bigg) \\quad & = & \\quad g(y) \\quad & = & \\quad \\frac{(\\frac{1}{2})^{\\frac{m}{2}}}{\\Gamma(\\frac{m}{2})} y^{\\frac{m}{2}-1}e^{-\\frac{y}{2}}\\\\\n",
    "\\end{align}$$\n",
    "\n",
    "we consider the random variable $\\frac{X}{Y}$. Let us find its distribution function $F_{n, m}(t)$. Consider cumulative probability function.\n",
    "\n",
    "$$\\begin{align}\n",
    "P\\big(\\frac{X}{Y} \\le t\\big) \\quad & = & \\quad P\\big(X \\le tY\\big) \\quad \\Rightarrow \\quad\n",
    "F_{1, 1}(t) \\quad & = & \\quad \\frac{d}{dt}P\\big(X \\le tY\\big)\n",
    "\\end{align}$$\n",
    "\n",
    "$$\\begin{align}\n",
    "F_{1, 1}(t) \\quad & = & \\quad \\frac{d}{dt}\\int_{0}^{\\infty}\\int_{0}^{ty}f(x)g(y)dxdy\\\\\n",
    "\\quad & = & \\quad \\int_{0}^{\\infty}\\frac{(\\frac{1}{2})^{\\frac{n}{2}}}{\\Gamma(\\frac{n}{2})} (ty)^{\\frac{n}{2}-1}e^{-\\frac{ty}{2}}\\frac{(\\frac{1}{2})^{\\frac{m}{2}}}{\\Gamma(\\frac{m}{2})} y^{\\frac{m}{2}-1}e^{-\\frac{y}{2}}dy\\\\\n",
    "\\quad & = & \\quad \\frac{(\\frac{1}{2})^{\\frac{n}{2}}}{\\Gamma(\\frac{n}{2})} \\frac{(\\frac{1}{2})^{\\frac{m}{2}}}{\\Gamma(\\frac{m}{2})} t^{\\frac{n}{2}-1} \\int_{0}^{\\infty} y^{\\frac{n+m}{2}-1}e^{-\\frac{1}{2}(t+1)y}dy\\\\\n",
    "\\quad & = & \\quad \\frac{(\\frac{1}{2})^{\\frac{n}{2}}}{\\Gamma(\\frac{n}{2})} \\frac{(\\frac{1}{2})^{\\frac{m}{2}}}{\\Gamma(\\frac{m}{2})} t^{\\frac{n}{2}-1} \\frac{\\Gamma(\\frac{n+m}{2})}{(\\frac{1+t}{2})^{\\frac{n+m}{2}}} \\int_{0}^{\\infty} \\frac{(\\frac{1+t}{2})^{\\frac{n+m}{2}}}{\\Gamma(\\frac{n+m}{2})}y^{\\frac{n+m}{2}-1}e^{-\\frac{1}{2}(t+1)y}dy\\\\\n",
    "\\quad & = & \\quad \\frac{\\Gamma(\\frac{n+m}{2})}{\\Gamma(\\frac{n}{2})\\Gamma(\\frac{m}{2})} t^{\\frac{n}{2}-1} (1+t)^{-\\frac{n+m}{2}}\\\\\n",
    "\\end{align}$$\n",
    "\n",
    "The overall distribution function is \n",
    "\n",
    "$$\\begin{align}\n",
    "P\\big(\\frac{X/n}{Y/m} \\le t\\big) \\quad & = & \\quad P\\big(X \\le \\frac{n}{m}tY\\big)\n",
    "\\quad \\Rightarrow \\quad \\frac{d}{dt}P\\big(X \\le \\frac{nt}{m}Y\\big)\\\\\n",
    "F_{n, m}(t) \\quad & = & \\quad \\frac{\\Gamma(\\frac{n+m}{2})}{\\Gamma(\\frac{n}{2})\\Gamma(\\frac{m}{2})} \\frac{n}{m}\\big(\\frac{n}{m}t\\big)^{\\frac{n}{2}-1} \\bigg(1+\\big(\\frac{n}{m}t\\big)\\bigg)^{-\\frac{n+m}{2}}\n",
    "\\end{align}$$\n",
    "\n"
   ]
  },
  {
   "cell_type": "markdown",
   "metadata": {},
   "source": [
    "# Student t-distribution\n",
    "\n",
    "Define a random variable\n",
    "\n",
    "$$\\begin{align}\n",
    "T \\quad & = & \\quad \\frac{x_{1}}{\\sqrt{\\frac{1}{n}\\big(y_{1}^{2} + \\cdots + y_{n}^{2}\\big)}}\n",
    "\\end{align}$$\n",
    "\n",
    "Employing F-distribution,\n",
    "\n",
    "$$\\begin{align}\n",
    "P(-t \\le T < t) \\quad & = & \\quad P(T^{2} \\le t^{2})\\\\\n",
    "\\Rightarrow \\qquad \\int_{-t}^{t}f_{T}(x) dx \\quad & = & \\quad \\int_{0}^{t^{2}}F_{1,n}(x) dx\n",
    "\\end{align}$$\n",
    "\n",
    "Taking a derivative w.r.t $t$.\n",
    "\n",
    "$$\\begin{align}\n",
    "f_{T}(-t) + f_{T}(t) \\quad & = & \\quad F_{1,n}(t^{2})t \\\\\n",
    "f_{T}(t) \\quad & = & \\quad \\frac{\\Gamma(\\frac{n+1}{2})}{\\Gamma(\\frac{1}{2})\\Gamma(\\frac{n}{2})} \\frac{1}{\\sqrt{n}} \\bigg(1+\\frac{t^{2}}{n}\\bigg)^{-\\frac{n+1}{2}}\n",
    "\\end{align}$$\n",
    "\n"
   ]
  },
  {
   "cell_type": "code",
   "execution_count": null,
   "metadata": {
    "collapsed": true
   },
   "outputs": [],
   "source": []
  },
  {
   "cell_type": "code",
   "execution_count": null,
   "metadata": {
    "collapsed": true
   },
   "outputs": [],
   "source": []
  }
 ],
 "metadata": {
  "kernelspec": {
   "display_name": "Python 3",
   "language": "python",
   "name": "python3"
  },
  "language_info": {
   "codemirror_mode": {
    "name": "ipython",
    "version": 3
   },
   "file_extension": ".py",
   "mimetype": "text/x-python",
   "name": "python",
   "nbconvert_exporter": "python",
   "pygments_lexer": "ipython3",
   "version": "3.6.1"
  }
 },
 "nbformat": 4,
 "nbformat_minor": 2
}
