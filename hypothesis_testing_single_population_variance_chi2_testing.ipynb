{
 "cells": [
  {
   "cell_type": "code",
   "execution_count": 2,
   "metadata": {
    "collapsed": true
   },
   "outputs": [],
   "source": [
    "import time\n",
    "import numpy as np\n",
    "import matplotlib.pyplot as plt\n",
    "import seaborn as sns\n",
    "import scipy.stats as spst\n",
    "%matplotlib inline"
   ]
  },
  {
   "cell_type": "markdown",
   "metadata": {},
   "source": [
    "# unknown $\\mu$ and unknown $\\sigma$ ----------------------------------------"
   ]
  },
  {
   "cell_type": "markdown",
   "metadata": {},
   "source": [
    "## hypothesis\n",
    "\n",
    "$H_{0}$: mean $\\sigma = \\sigma_{0}$\n",
    "\n",
    "$H_{1}$: mean $\\sigma \\neq \\sigma_{0}$\n",
    "\n",
    "significance level: $\\alpha = 0.05$ (probability to reject $H_{0}$)"
   ]
  },
  {
   "cell_type": "code",
   "execution_count": 68,
   "metadata": {},
   "outputs": [
    {
     "name": "stdout",
     "output_type": "stream",
     "text": [
      "population mean = 9.140\n",
      "S               = 1.349\n"
     ]
    }
   ],
   "source": [
    "N = 20         # number of samples.\n",
    "sgm = 2.0      # sigma 0\n",
    "mu_true = 10.0 # true mean\n",
    "mu_test = 9.6  # mu0\n",
    "sg0 = 1.8\n",
    "\n",
    "x = np.random.normal(loc=mu_true, scale=sgm, size=N)\n",
    "mu_pop = x.mean()\n",
    "S = np.sqrt(((x - x.mean())**2).sum() / (N - 1))\n",
    "print('population mean = {:2.3f}'.format(mu_pop))\n",
    "print('S               = {:2.3f}'.format(S))"
   ]
  },
  {
   "cell_type": "markdown",
   "metadata": {},
   "source": [
    "Examine type-I error ($H_{1}$)\n",
    "\n",
    "Here we test if $\\sigma \\neq \\sigma_{0}$, namely, we have to pick $\\mu$.\n",
    "\n",
    "Question: how should we pick this $\\sigma$? (avoid false positive)\n",
    "\n",
    "Define $\\Delta = \\frac{\\sigma}{\\sigma_{0}}$, $\\chi_{0}^{2} = \\frac{S}{\\sigma_{0}^{2}}$ and $\\chi^{2} = \\frac{S}{\\sigma^{2}}$.\n",
    "\n",
    "$$\\begin{align}\n",
    "\\alpha \\quad & = &\\quad Pr\\big(\\chi_{0}^{2} \\le \\chi^{2}(\\phi, 1 - \\alpha/2)\\big) + Pr\\big(\\chi_{0}^{2} \\ge \\chi^{2}(\\phi, \\alpha/2)\\big) \\\\\n",
    "\\quad & = &\\quad Pr\\big(\\chi_{0}^{2} \\le \\chi^{2}(N - 1, 1 - \\alpha/2)\\big) + Pr\\big(\\chi_{0}^{2} \\ge \\chi^{2}(N - 1, \\alpha/2)\\big) \\\\\n",
    "\\end{align}$$"
   ]
  },
  {
   "cell_type": "code",
   "execution_count": 69,
   "metadata": {},
   "outputs": [
    {
     "name": "stdout",
     "output_type": "stream",
     "text": [
      "dof         = 19\n",
      "chi_(a/2)   = 32.8523\n",
      "chi_(1-a/2) =  8.9065\n",
      "S/sg0**2    =  0.4163\n"
     ]
    }
   ],
   "source": [
    "chi0 = S / (sg0)**2\n",
    "chia2 = spst.chi2.ppf([0.975, 0.025], df=N-1)\n",
    "print('dof         = {}'.format(N - 1))\n",
    "print('chi_(a/2)   = {:1.4f}'.format(chia2[0]))\n",
    "print('chi_(1-a/2) =  {:1.4f}'.format(chia2[1]))\n",
    "print('S/sg0**2    =  {:1.4f}'.format(chi0))"
   ]
  },
  {
   "cell_type": "markdown",
   "metadata": {},
   "source": [
    "Examine type-II error ($H_{1}$)\n",
    "\n",
    "Here we test if $\\sigma \\neq \\sigma_{0}$, namely, we have to pick $\\mu$.\n",
    "\n",
    "Question: how should we pick this $\\sigma$? (avoid false positive)\n",
    "\n",
    "Define $\\Delta = \\frac{\\sigma}{\\sigma_{0}}$, $\\chi_{0}^{2} = \\frac{S}{\\sigma_{0}^{2}}$ and $\\chi^{2} = \\frac{S}{\\sigma^{2}}$.\n",
    "\n",
    "$$\\begin{align}\n",
    "1 - \\beta \\quad & = &\\quad Pr\\big(\\chi_{0}^{2} \\le \\chi^{2}(N - 1, 1 - \\alpha/2)\\big) + Pr\\big(\\chi_{0}^{2} \\ge \\chi^{2}(N - 1, \\alpha/2)\\big)\\\\\n",
    "\\quad & = &\\quad Pr\\bigg(\\frac{S}{\\sigma_{0}^{2}} \\le \\chi^{2}(N - 1, 1 - \\alpha/2)\\bigg) + Pr\\bigg(\\frac{S}{\\sigma_{0}^{2}} \\ge \\chi^{2}(N - 1, \\alpha/2)\\bigg)\\\\\n",
    "\\quad & = &\\quad Pr\\bigg(\\frac{S}{\\sigma^{2}}\\frac{\\sigma^{2}}{\\sigma_{0}^{2}} \\le \\chi^{2}(N - 1, 1 - \\alpha/2)\\bigg) + Pr\\bigg(\\frac{S}{\\sigma^{2}}\\frac{\\sigma^{2}}{\\sigma_{0}^{2}} \\ge \\chi^{2}(N - 1, \\alpha/2)\\bigg)\\\\\n",
    "\\quad & = &\\quad Pr\\bigg(\\frac{S}{\\sigma^{2}}\\Delta^{2} \\le \\chi^{2}(N - 1, 1 - \\alpha/2)\\bigg) + Pr\\bigg(\\frac{S}{\\sigma^{2}}\\Delta^{2} \\ge \\chi^{2}(N - 1, \\alpha/2)\\bigg)\\\\\n",
    "\\quad & = &\\quad Pr\\bigg(\\frac{S}{\\sigma^{2}} \\le \\frac{\\chi^{2}(N - 1, 1 - \\alpha/2)}{\\Delta^{2}}\\bigg) + Pr\\bigg(\\frac{S}{\\sigma^{2}} \\ge \\frac{\\chi^{2}(N - 1, \\alpha/2)}{\\Delta^{2}}\\bigg)\n",
    "\\end{align}$$\n"
   ]
  },
  {
   "cell_type": "code",
   "execution_count": 70,
   "metadata": {},
   "outputs": [
    {
     "data": {
      "image/png": "[encoded data removed]",
      "text/plain": [
       "<matplotlib.figure.Figure at 0x11f66ec88>"
      ]
     },
     "metadata": {},
     "output_type": "display_data"
    }
   ],
   "source": [
    "deltas = np.arange(0.05, 4.01, 0.01)\n",
    "Ns = [x**2 for x in range(2, 6)]\n",
    "a = 0.05\n",
    "\n",
    "plt.rcParams['figure.figsize'] = (5.0, 5.0)\n",
    "for N in Ns:\n",
    "    chia2 = spst.chi2.ppf([1 - a/2, a/2], df=N-1)\n",
    "    power = spst.chi2.cdf(chia2[1] / deltas**2, df=N-1)\n",
    "    power += 1 - spst.chi2.cdf(chia2[0] / deltas**2, df=N-1)\n",
    "    plt.axhline(1.0, lw=0.2, color=(0., 0., 0.))\n",
    "    plt.axhline(0.0, lw=0.2, color=(0., 0., 0.))\n",
    "    plt.axvline(1.0, lw=0.2, color=(0., 0., 0.))\n",
    "    plt.plot(deltas, power, '-', label='N = {}'.format(N))\n",
    "    plt.xlim((0., 4.))\n",
    "    plt.ylim((-0.05, 1.05))\n",
    "    plt.legend(loc='best')\n",
    "    plt.xlabel('Delta')\n",
    "    plt.ylabel('power')\n",
    "    plt.title('type-II')"
   ]
  },
  {
   "cell_type": "markdown",
   "metadata": {},
   "source": [
    "## Design of sample size according to a specified power\n",
    "\n",
    "The power is expressed as  \n",
    "$$\\begin{align}\n",
    "1 - \\beta \\quad & = & \\quad Pr\\bigg(\\chi^{2} \\ge \\frac{\\chi^{2}(N - 1, \\alpha/2)}{\\Delta^{2}}\\bigg) + Pr\\bigg(\\chi^{2} \\le \\frac{\\chi^{2}(N - 1, 1 - \\alpha/2)}{\\Delta^{2}}\\bigg)\n",
    "\\end{align}$$\n",
    "\n",
    "There are a few approximations to chi-squared distributions.\n",
    "\n",
    "(1) Fisher's\n",
    "\n",
    "$$\\begin{align}\n",
    "\\sqrt{2\\chi^{2}} - \\sqrt{2\\phi - 1} \\quad & \\approx & \\quad N(0, 1^{2})\n",
    "\\end{align}$$\n",
    "\n",
    "(2) Wislon-Hilferty's\n",
    "\n",
    "$$\\begin{align}\n",
    "\\sqrt{\\frac{9\\phi}{2}}  \\bigg[ \\bigg( \\frac{\\chi^{2}}{\\phi}\\bigg)^{1/3} - \\bigg(1 - \\frac{2}{9\\phi} \\bigg) \\bigg] \\quad & \\approx & \\quad N(0, 1^{2})\n",
    "\\end{align}$$\n",
    "\n",
    "Here, $\\phi$ is the degree of freedom and $\\phi = N - 1$ in our case. Each of them yields\n",
    "\n",
    "\n",
    "### $\\Delta > \\Delta_{0>} > 1$.\n",
    "\n",
    "$$\\begin{align}\n",
    "1 - \\beta \\quad & \\approx & \\quad Pr\\bigg(\\chi^{2} \\ge \\frac{\\chi^{2}(N - 1, \\alpha/2)}{\\Delta^{2}}\\bigg)\n",
    "\\end{align}$$\n",
    "\n",
    "(1) Fisher's\n",
    "\n",
    "$$\\begin{align}\n",
    "\\frac{1}{2\\Delta^{2}} \\big(z_{\\alpha/2} + \\sqrt{2\\phi - 1} \\big) \\quad & \\approx & \\quad \\frac{1}{2}\\big(z_{1-\\beta} + \\sqrt{2\\phi - 1} \\big) \\\\\n",
    "\\Rightarrow \\qquad \\phi \\quad & \\approx & \\quad \\frac{1}{2}\\bigg( \\frac{z_{\\alpha/2} - \\Delta z_{1-\\beta}}{\\Delta - 1}\\bigg)^{2} + \\frac{1}{2}\\\\\n",
    "\\Rightarrow \\qquad N \\quad & \\approx & \\quad \\frac{1}{2}\\bigg( \\frac{z_{\\alpha/2} - \\Delta z_{1-\\beta}}{\\Delta - 1}\\bigg)^{2} + \\frac{3}{2}\n",
    "\\end{align}$$\n",
    "\n",
    "(2) Wislon-Hilferty's\n",
    "\n",
    "\n",
    "$$\\begin{align}\n",
    "\\Rightarrow \\qquad p \\quad & = & \\quad \\Delta^{2/3}z_{1 - \\beta} - z_{\\alpha/2}\\\\\n",
    "q \\quad & = & \\quad \\Delta^{2/3} - 1\\\\\n",
    "r \\quad & = & \\quad \\frac{p + \\sqrt{p^{2} + 4q^{2}}}{2q}\\\\\n",
    "N \\quad & \\approx & \\quad \\frac{2}{9r^{2}} + 1\n",
    "\\end{align}$$\n",
    "\n",
    "\n",
    "\n",
    "\n",
    "\n",
    "\n",
    "\n",
    "### $\\Delta < \\Delta_{0<} < 1$.\n",
    "\n",
    "$$\\begin{align}\n",
    "1 - \\beta \\quad & \\approx & \\quad Pr\\bigg(\\chi^{2} \\le \\frac{\\chi^{2}(\\phi, 1 - \\alpha/2)}{\\Delta^{2}}\\bigg)\n",
    "\\end{align}$$\n",
    "\n",
    "Here, $\\phi$ is the degree of freedom and $\\phi = N - 1$ in our case. Each of them yields\n",
    "\n",
    "(1) Fisher's\n",
    "\n",
    "$$\\begin{align}\n",
    "N \\quad & \\approx & \\quad \\frac{1}{2}\\bigg( \\frac{z_{1 - \\alpha/2} - \\Delta z_{\\beta}}{\\Delta - 1}\\bigg)^{2} + \\frac{3}{2}\n",
    "\\end{align}$$\n",
    "\n",
    "(2) Wislon-Hilferty's\n",
    "\n",
    "$$\\begin{align}\n",
    "\\Rightarrow \\qquad p \\quad & = & \\quad \\Delta^{2/3}z_{\\beta} - z_{1 - \\alpha/2}\\\\\n",
    "q \\quad & = & \\quad \\Delta^{2/3} - 1\\\\\n",
    "r \\quad & = & \\quad \\frac{p - \\sqrt{p^{2} + 4q^{2}}}{2q}\\\\\n",
    "N \\quad & \\approx & \\quad \\frac{2}{9r^{2}} + 1\n",
    "\\end{align}$$\n",
    "\n"
   ]
  },
  {
   "cell_type": "code",
   "execution_count": null,
   "metadata": {
    "collapsed": true
   },
   "outputs": [],
   "source": []
  },
  {
   "cell_type": "code",
   "execution_count": null,
   "metadata": {
    "collapsed": true
   },
   "outputs": [],
   "source": []
  },
  {
   "cell_type": "code",
   "execution_count": null,
   "metadata": {
    "collapsed": true
   },
   "outputs": [],
   "source": []
  },
  {
   "cell_type": "markdown",
   "metadata": {},
   "source": [
    "## hypothesis\n",
    "\n",
    "$H_{0}$: mean $\\sigma = \\sigma_{0}$\n",
    "\n",
    "$H_{1}$: mean $\\sigma > \\sigma_{0}$\n",
    "\n",
    "significance level: $\\alpha = 0.05$ (probability to reject $H_{0}$)"
   ]
  },
  {
   "cell_type": "code",
   "execution_count": 75,
   "metadata": {},
   "outputs": [
    {
     "name": "stdout",
     "output_type": "stream",
     "text": [
      "population mean = 10.059\n",
      "S               = 1.826\n"
     ]
    }
   ],
   "source": [
    "N = 20         # number of samples.\n",
    "sgm = 2.0      # sigma 0\n",
    "mu_true = 10.0 # true mean\n",
    "mu_test = 9.6  # mu0\n",
    "sg0 = 1.8\n",
    "\n",
    "x = np.random.normal(loc=mu_true, scale=sgm, size=N)\n",
    "mu_pop = x.mean()\n",
    "S = np.sqrt(((x - x.mean())**2).sum() / (N - 1))\n",
    "print('population mean = {:2.3f}'.format(mu_pop))\n",
    "print('S               = {:2.3f}'.format(S))"
   ]
  },
  {
   "cell_type": "markdown",
   "metadata": {},
   "source": [
    "Examine type-I error ($H_{1}$)\n",
    "\n",
    "Here we test if $\\sigma \\neq \\sigma_{0}$, namely, we have to pick $\\mu$.\n",
    "\n",
    "Question: how should we pick this $\\sigma$? (avoid false positive)\n",
    "\n",
    "Define $\\Delta = \\frac{\\sigma}{\\sigma_{0}}$, $\\chi_{0}^{2} = \\frac{S}{\\sigma_{0}^{2}}$ and $\\chi^{2} = \\frac{S}{\\sigma^{2}}$.\n",
    "\n",
    "$$\\begin{align}\n",
    "\\alpha \\quad & = &\\quad Pr\\big(\\chi_{0}^{2} \\ge \\chi^{2}(\\phi, \\alpha)\\big) \\\\\n",
    "\\quad & = &\\quad Pr\\big(\\chi_{0}^{2} \\ge \\chi^{2}(N - 1, \\alpha)\\big)\n",
    "\\end{align}$$"
   ]
  },
  {
   "cell_type": "code",
   "execution_count": 76,
   "metadata": {},
   "outputs": [
    {
     "name": "stdout",
     "output_type": "stream",
     "text": [
      "dof       = 19\n",
      "chi_(a)   = 10.1170\n",
      "S/sg0**2  =  0.5635\n"
     ]
    }
   ],
   "source": [
    "chi0 = S / (sg0)**2\n",
    "chia = spst.chi2.ppf([0.05], df=N-1)\n",
    "print('dof       = {}'.format(N - 1))\n",
    "print('chi_(a)   = {:1.4f}'.format(chia[0]))\n",
    "print('S/sg0**2  =  {:1.4f}'.format(chi0))"
   ]
  },
  {
   "cell_type": "markdown",
   "metadata": {},
   "source": [
    "Examine type-II error ($H_{1}$)\n",
    "\n",
    "Here we test if $\\sigma \\neq \\sigma_{0}$, namely, we have to pick $\\mu$.\n",
    "\n",
    "Question: how should we pick this $\\sigma$? (avoid false positive)\n",
    "\n",
    "Define $\\Delta = \\frac{\\sigma}{\\sigma_{0}}$, $\\chi_{0}^{2} = \\frac{S}{\\sigma_{0}^{2}}$ and $\\chi^{2} = \\frac{S}{\\sigma^{2}}$.\n",
    "\n",
    "$$\\begin{align}\n",
    "1 - \\beta \\quad & = &\\quad Pr\\big(\\chi_{0}^{2} \\ge \\chi^{2}(N - 1, \\alpha)\\big)\\\\\n",
    "\\quad & = &\\quad Pr\\bigg(\\frac{S}{\\sigma_{0}^{2}} \\ge \\chi^{2}(N - 1, \\alpha)\\bigg)\\\\\n",
    "\\quad & = &\\quad Pr\\bigg(\\frac{S}{\\sigma^{2}}\\frac{\\sigma^{2}}{\\sigma_{0}^{2}} \\ge \\chi^{2}(N - 1, \\alpha)\\bigg)\\\\\n",
    "\\quad & = &\\quad Pr\\bigg(\\frac{S}{\\sigma^{2}}\\Delta^{2} \\ge \\chi^{2}(N - 1, \\alpha)\\bigg)\\\\\n",
    "\\quad & = &\\quad Pr\\bigg(\\frac{S}{\\sigma^{2}} \\ge \\frac{\\chi^{2}(N - 1, \\alpha)}{\\Delta^{2}}\\bigg)\n",
    "\\end{align}$$"
   ]
  },
  {
   "cell_type": "code",
   "execution_count": 77,
   "metadata": {},
   "outputs": [
    {
     "data": {
      "image/png": "[encoded data removed]",
      "text/plain": [
       "<matplotlib.figure.Figure at 0x11f5a00f0>"
      ]
     },
     "metadata": {},
     "output_type": "display_data"
    }
   ],
   "source": [
    "deltas = np.arange(0.05, 4.01, 0.01)\n",
    "Ns = [x**2 for x in range(2, 6)]\n",
    "a = 0.05\n",
    "\n",
    "plt.rcParams['figure.figsize'] = (5.0, 5.0)\n",
    "for N in Ns:\n",
    "    chia = spst.chi2.ppf([1 - a], df=N-1)\n",
    "    power = 1 - spst.chi2.cdf(chia[0] / deltas**2, df=N-1)\n",
    "    plt.axhline(1.0, lw=0.2, color=(0., 0., 0.))\n",
    "    plt.axhline(0.0, lw=0.2, color=(0., 0., 0.))\n",
    "    plt.axvline(1.0, lw=0.2, color=(0., 0., 0.))\n",
    "    plt.plot(deltas, power, '-', label='N = {}'.format(N))\n",
    "    plt.xlim((0., 4.))\n",
    "    plt.ylim((-0.05, 1.05))\n",
    "    plt.legend(loc='best')\n",
    "    plt.xlabel('Delta')\n",
    "    plt.ylabel('power')\n",
    "    plt.title('type-II')"
   ]
  },
  {
   "cell_type": "markdown",
   "metadata": {},
   "source": [
    "### design of sample size according to a specified power\n",
    "\n",
    "Suppose $\\Delta > \\Delta_{0>} > 1$.\n",
    "\n",
    "$$\\begin{align}\n",
    "1 - \\beta \\quad & = & \\quad Pr\\bigg(\\chi^{2} \\ge \\frac{\\chi^{2}(N - 1, \\alpha)}{\\Delta^{2}}\\bigg)\n",
    "\\end{align}$$\n",
    "\n",
    "There are a few approximations to chi-squared distributions.\n",
    "\n",
    "(1) Fisher's\n",
    "\n",
    "$$\\begin{align}\n",
    "\\sqrt{2\\chi^{2}} - \\sqrt{2\\phi - 1} \\quad & \\approx & \\quad N(0, 1^{2})\n",
    "\\end{align}$$\n",
    "\n",
    "(2) Wislon-Hilferty's\n",
    "\n",
    "$$\\begin{align}\n",
    "\\sqrt{\\frac{9\\phi}{2}}  \\bigg[ \\bigg( \\frac{\\chi^{2}}{\\phi}\\bigg)^{1/3} - \\bigg(1 - \\frac{2}{9\\phi} \\bigg) \\bigg] \\quad & \\approx & \\quad N(0, 1^{2})\n",
    "\\end{align}$$\n",
    "\n",
    "Here, $\\phi$ is the degree of freedom and $\\phi = N - 1$ in our case. Each of them yields\n",
    "\n",
    "(1) Fisher's\n",
    "\n",
    "$$\\begin{align}\n",
    "\\chi^{2}(\\phi, P) \\quad & \\approx & \\quad \\frac{1}{2}\\big(z_{P} + \\sqrt{2\\phi - 1} \\big)\n",
    "\\end{align}$$\n",
    "\n",
    "Here, $z_{P}$ is the upper 100P% point. Using this approximation,\n",
    "\n",
    "$$\\begin{align}\n",
    "1 - \\beta \\quad & = & \\quad Pr\\bigg(\\chi^{2} \\ge \\frac{\\chi^{2}(\\phi, \\alpha)}{\\Delta^{2}}\\bigg)\\\\\n",
    "\\quad & \\approx & \\quad Pr\\bigg(\\chi^{2} \\ge \\frac{1}{2\\Delta^{2}} \\big(z_{\\alpha} + \\sqrt{2\\phi - 1} \\big)\\bigg)\n",
    "\\end{align}$$\n",
    "\n",
    "and separately,\n",
    "\n",
    "$$\\begin{align}\n",
    "\\chi^{2}(\\phi, 1 - \\beta) \\quad & \\approx & \\quad \\frac{1}{2}\\big(z_{1-\\beta} + \\sqrt{2\\phi - 1} \\big)\n",
    "\\end{align}$$\n",
    "\n",
    "Thus, \n",
    "\n",
    "$$\\begin{align}\n",
    "\\frac{1}{2\\Delta^{2}} \\big(z_{\\alpha} + \\sqrt{2\\phi - 1} \\big) \\quad & \\approx & \\quad \\frac{1}{2}\\big(z_{1-\\beta} + \\sqrt{2\\phi - 1} \\big) \\\\\n",
    "\\Rightarrow \\qquad \\phi \\quad & \\approx & \\quad \\frac{1}{2}\\bigg( \\frac{z_{\\alpha} - \\Delta z_{1-\\beta}}{\\Delta - 1}\\bigg)^{2} + \\frac{1}{2}\\\\\n",
    "\\Rightarrow \\qquad N \\quad & \\approx & \\quad \\frac{1}{2}\\bigg( \\frac{z_{\\alpha} - \\Delta z_{1-\\beta}}{\\Delta - 1}\\bigg)^{2} + \\frac{3}{2}\n",
    "\\end{align}$$\n",
    "\n",
    "(2) Wislon-Hilferty's\n",
    "\n",
    "$$\\begin{align}\n",
    "\\chi^{2}(\\phi, P) \\quad & \\approx & \\quad \\phi\\bigg(\\sqrt{\\frac{2}{9\\phi}}z_{P} + 1 - \\frac{2}{9\\phi} \\bigg)^{3}\n",
    "\\end{align}$$\n",
    "\n",
    "Here, $z_{P}$ is the upper 100P% point. Using this approximation,\n",
    "\n",
    "$$\\begin{align}\n",
    "1 - \\beta \\quad & = & \\quad Pr\\bigg(\\chi^{2} \\ge \\frac{\\chi^{2}(\\phi, \\alpha)}{\\Delta^{2}}\\bigg)\\\\\n",
    "\\quad & \\approx & \\quad Pr\\bigg(\\chi^{2} \\ge \\frac{\\phi}{\\Delta^{2}}\\bigg(\\sqrt{\\frac{2}{9\\phi}}z_{\\alpha} + 1 - \\frac{2}{9\\phi} \\bigg)^{3}\\bigg)\n",
    "\\end{align}$$\n",
    "\n",
    "and separately,\n",
    "\n",
    "$$\\begin{align}\n",
    "\\chi^{2}(\\phi, 1 - \\beta) \\quad & \\approx & \\quad \\phi\\bigg(\\sqrt{\\frac{2}{9\\phi}}z_{1 - \\beta} + 1 - \\frac{2}{9\\phi} \\bigg)^{3}\n",
    "\\end{align}$$\n",
    "\n",
    "Thus, \n",
    "\n",
    "$$\\begin{align}\n",
    "\\frac{\\phi}{\\Delta^{2}}\\bigg(\\sqrt{\\frac{2}{9\\phi}}z_{\\alpha} + 1 - \\frac{2}{9\\phi} \\bigg)^{3} \\quad & = & \\quad \\phi\\bigg(\\sqrt{\\frac{2}{9\\phi}}z_{1 - \\beta} + 1 - \\frac{2}{9\\phi} \\bigg)^{3}\\\\\n",
    "\\end{align}$$\n",
    "\n",
    ", which yields\n",
    "\n",
    "$$\\begin{align}\n",
    "\\Rightarrow \\qquad p \\quad & = & \\quad \\Delta^{2/3}z_{1 - \\beta} - z_{\\alpha}\\\\\n",
    "q \\quad & = & \\quad \\Delta^{2/3} - 1\\\\\n",
    "r \\quad & = & \\quad \\frac{p + \\sqrt{p^{2} + 4q^{2}}}{2q}\\\\\n",
    "N \\quad & \\approx & \\quad \\frac{2}{9r^{2}} + 1\n",
    "\\end{align}$$\n",
    "\n",
    "\n",
    "\n"
   ]
  },
  {
   "cell_type": "code",
   "execution_count": 202,
   "metadata": {
    "collapsed": true
   },
   "outputs": [],
   "source": [
    "dd = 1.05 # delta\n",
    "a = 0.05 # significance level\n",
    "b = 0.1  # prob. type-II error.\n",
    "\n",
    "za = spst.norm.ppf(1-a)\n",
    "zb = spst.norm.ppf(b)"
   ]
  },
  {
   "cell_type": "code",
   "execution_count": null,
   "metadata": {},
   "outputs": [],
   "source": [
    "# Fisher's approximation\n",
    "\n",
    "N_fs = 0.5*(((za - zb)/(dd - 1))**2) + 1.5 # Fisher"
   ]
  },
  {
   "cell_type": "code",
   "execution_count": null,
   "metadata": {},
   "outputs": [],
   "source": [
    "# numerical search\n",
    "\n",
    "N = 1000\n",
    "dfs = np.arange(1, N + 1)\n",
    "cc = spst.chi2.ppf(1 - a, df=dfs) / dd**2\n",
    "pwrs = 1 - spst.chi2.cdf(cc, df=dfs)\n",
    "pwr = 1 - b\n",
    "idx1 = 0\n",
    "idx4 = N - 1\n",
    "idx2 = idx1 + (idx4 - idx1) // 3\n",
    "idx3 = idx4 - (idx4 - idx1) // 3\n",
    "while True:\n",
    "    if pwrs[idx1] == pwr:\n",
    "        idx = idx1\n",
    "        break\n",
    "    elif pwrs[idx2] == pwr:\n",
    "        idx = idx2\n",
    "        break\n",
    "    elif pwrs[idx3] == pwr:\n",
    "        idx = idx3\n",
    "        break\n",
    "    elif pwrs[idx4] == pwr:\n",
    "        idx = idx4\n",
    "        break\n",
    "\n",
    "    if pwrs[idx2] > pwr and pwrs[idx3] > pwr:\n",
    "        idx2 = idx1\n",
    "        idx4 = idx3\n",
    "        idx3 = idx4 - (idx4 - idx1) // 3\n",
    "    elif pwrs[idx2] < pwr and pwrs[idx3] < pwr:\n",
    "        idx3 = idx4\n",
    "        idx1 = idx2\n",
    "        idx2 = idx1 + (idx4 - idx1) // 3\n",
    "    else:\n",
    "        if idx4 <= idx1 + 3:\n",
    "            idx1 = idx2\n",
    "            idx4 = idx3\n",
    "            idx2 = idx1 + 1\n",
    "            idx3 = idx4 - 1\n",
    "        else:\n",
    "            idx1 = idx2\n",
    "            idx4 = idx3\n",
    "            idx2 = idx1 + (idx4 - idx1) // 3\n",
    "            idx3 = idx4 - (idx4 - idx1) // 3\n",
    "    #print('{:6d}, {:6d}, {:6d}, {:6d}'.format(dfs[idx1],dfs[idx2],dfs[idx3],dfs[idx4]))\n",
    "    #print('{:1.4f}, {:1.4f}, {:1.4f}, {:1.4f}\\n'.format(pwrs[idx1],pwrs[idx2],pwrs[idx3],pwrs[idx4]))\n",
    "\n",
    "    if idx2 + 1 >= idx3:\n",
    "        if pwrs[idx1] < pwr and pwrs[idx2] >= pwr:\n",
    "            idx = idx2\n",
    "            break\n",
    "        elif pwrs[idx2] < pwr and pwrs[idx3] >= pwr:\n",
    "            idx = idx3\n",
    "            break\n",
    "        elif pwrs[idx3] < pwr and pwrs[idx4] >= pwr:\n",
    "            idx = idx4\n",
    "            break\n",
    "N_nm = dfs[idx] + 1 # N - 1 \n",
    "print('power = {:1.2f}, delta = {:1.3f}'.format(pwr, dd))\n",
    "print('N = {:2d} (N_f = {:2.3f}, N_wh = {:2.3f}) \\n'.format(N_nm, N_fs, N_wh))"
   ]
  },
  {
   "cell_type": "code",
   "execution_count": 158,
   "metadata": {},
   "outputs": [
    {
     "name": "stdout",
     "output_type": "stream",
     "text": [
      "numerical      :  1794\n",
      "Fisher's       :  1790.09744046\n",
      "Wislon-Hilferty:  1793.26947766\n"
     ]
    }
   ],
   "source": [
    "print('numerical      : ', N_nm)\n",
    "print('Fisher\\'s       : ', N_fs)\n",
    "print('Wislon-Hilferty: ', N_wh)"
   ]
  },
  {
   "cell_type": "code",
   "execution_count": null,
   "metadata": {
    "collapsed": true
   },
   "outputs": [],
   "source": []
  },
  {
   "cell_type": "code",
   "execution_count": null,
   "metadata": {
    "collapsed": true
   },
   "outputs": [],
   "source": []
  },
  {
   "cell_type": "code",
   "execution_count": null,
   "metadata": {
    "collapsed": true
   },
   "outputs": [],
   "source": []
  },
  {
   "cell_type": "code",
   "execution_count": null,
   "metadata": {
    "collapsed": true
   },
   "outputs": [],
   "source": []
  },
  {
   "cell_type": "markdown",
   "metadata": {},
   "source": [
    "## hypothesis\n",
    "\n",
    "$H_{0}$: mean $\\sigma = \\sigma_{0}$\n",
    "\n",
    "$H_{1}$: mean $\\sigma < \\sigma_{0}$\n",
    "\n",
    "significance level: $\\alpha = 0.05$ (probability to reject $H_{0}$)"
   ]
  },
  {
   "cell_type": "code",
   "execution_count": 78,
   "metadata": {},
   "outputs": [
    {
     "name": "stdout",
     "output_type": "stream",
     "text": [
      "population mean = 10.169\n",
      "S               = 1.904\n"
     ]
    }
   ],
   "source": [
    "N = 20         # number of samples.\n",
    "sgm = 2.0      # sigma 0\n",
    "mu_true = 10.0 # true mean\n",
    "mu_test = 9.6  # mu0\n",
    "sg0 = 1.8\n",
    "\n",
    "x = np.random.normal(loc=mu_true, scale=sgm, size=N)\n",
    "mu_pop = x.mean()\n",
    "S = np.sqrt(((x - x.mean())**2).sum() / (N - 1))\n",
    "print('population mean = {:2.3f}'.format(mu_pop))\n",
    "print('S               = {:2.3f}'.format(S))"
   ]
  },
  {
   "cell_type": "markdown",
   "metadata": {},
   "source": [
    "Examine type-I error ($H_{1}$)\n",
    "\n",
    "Here we test if $\\sigma \\neq \\sigma_{0}$, namely, we have to pick $\\mu$.\n",
    "\n",
    "Question: how should we pick this $\\sigma$? (avoid false positive)\n",
    "\n",
    "Define $\\Delta = \\frac{\\sigma}{\\sigma_{0}}$, $\\chi_{0}^{2} = \\frac{S}{\\sigma_{0}^{2}}$ and $\\chi^{2} = \\frac{S}{\\sigma^{2}}$.\n",
    "\n",
    "$$\\begin{align}\n",
    "\\alpha \\quad & = &\\quad Pr\\big(\\chi_{0}^{2} \\le \\chi^{2}(\\phi, 1 - \\alpha)\\big) \\\\\n",
    "\\quad & = &\\quad Pr\\big(\\chi_{0}^{2} \\le \\chi^{2}(N - 1, 1 -\\alpha)\\big)\n",
    "\\end{align}$$"
   ]
  },
  {
   "cell_type": "code",
   "execution_count": 79,
   "metadata": {},
   "outputs": [
    {
     "name": "stdout",
     "output_type": "stream",
     "text": [
      "dof       = 19\n",
      "chi_(a)   = 10.1170\n",
      "S/sg0**2  =  0.5875\n"
     ]
    }
   ],
   "source": [
    "chi0 = S / (sg0)**2\n",
    "chia = spst.chi2.ppf([0.05], df=N-1)\n",
    "print('dof       = {}'.format(N - 1))\n",
    "print('chi_(a)   = {:1.4f}'.format(chia[0]))\n",
    "print('S/sg0**2  =  {:1.4f}'.format(chi0))"
   ]
  },
  {
   "cell_type": "markdown",
   "metadata": {},
   "source": [
    "Examine type-II error ($H_{1}$)\n",
    "\n",
    "Here we test if $\\sigma \\neq \\sigma_{0}$, namely, we have to pick $\\mu$.\n",
    "\n",
    "Question: how should we pick this $\\sigma$? (avoid false positive)\n",
    "\n",
    "Define $\\Delta = \\frac{\\sigma}{\\sigma_{0}}$, $\\chi_{0}^{2} = \\frac{S}{\\sigma_{0}^{2}}$ and $\\chi^{2} = \\frac{S}{\\sigma^{2}}$.\n",
    "\n",
    "$$\\begin{align}\n",
    "1 - \\beta \\quad & = &\\quad Pr\\big(\\chi_{0}^{2} \\le \\chi^{2}(N - 1, 1 - \\alpha)\\big)\\\\\n",
    "\\quad & = &\\quad Pr\\bigg(\\frac{S}{\\sigma_{0}^{2}} \\le \\chi^{2}(N - 1, 1 - \\alpha)\\bigg)\\\\\n",
    "\\quad & = &\\quad Pr\\bigg(\\frac{S}{\\sigma^{2}}\\frac{\\sigma^{2}}{\\sigma_{0}^{2}} \\le \\chi^{2}(N - 1, 1 - \\alpha)\\bigg)\\\\\n",
    "\\quad & = &\\quad Pr\\bigg(\\frac{S}{\\sigma^{2}}\\Delta^{2} \\le \\chi^{2}(N - 1, 1 - \\alpha)\\bigg)\\\\\n",
    "\\quad & = &\\quad Pr\\bigg(\\frac{S}{\\sigma^{2}} \\le \\frac{\\chi^{2}(N - 1, 1 - \\alpha)}{\\Delta^{2}}\\bigg)\n",
    "\\end{align}$$"
   ]
  },
  {
   "cell_type": "code",
   "execution_count": 80,
   "metadata": {},
   "outputs": [
    {
     "data": {
      "image/png": "[encoded data removed]",
      "text/plain": [
       "<matplotlib.figure.Figure at 0x11f51d630>"
      ]
     },
     "metadata": {},
     "output_type": "display_data"
    }
   ],
   "source": [
    "deltas = np.arange(0.05, 4.01, 0.01)\n",
    "Ns = [x**2 for x in range(2, 6)]\n",
    "a = 0.05\n",
    "\n",
    "plt.rcParams['figure.figsize'] = (5.0, 5.0)\n",
    "for N in Ns:\n",
    "    chia = spst.chi2.ppf([a], df=N-1)\n",
    "    power = spst.chi2.cdf(chia[0] / deltas**2, df=N-1)\n",
    "    plt.axhline(1.0, lw=0.2, color=(0., 0., 0.))\n",
    "    plt.axhline(0.0, lw=0.2, color=(0., 0., 0.))\n",
    "    plt.axvline(1.0, lw=0.2, color=(0., 0., 0.))\n",
    "    plt.plot(deltas, power, '-', label='N = {}'.format(N))\n",
    "    plt.xlim((0., 4.))\n",
    "    plt.ylim((-0.05, 1.05))\n",
    "    plt.legend(loc='best')\n",
    "    plt.xlabel('Delta')\n",
    "    plt.ylabel('power')\n",
    "    plt.title('type-II')"
   ]
  },
  {
   "cell_type": "markdown",
   "metadata": {},
   "source": [
    "### design of sample size according to a specified power\n",
    "\n",
    "Suppose $\\Delta < \\Delta_{0<} < 1$.\n",
    "\n",
    "$$\\begin{align}\n",
    "1 - \\beta \\quad & = & \\quad Pr\\bigg(\\chi^{2} \\le \\frac{\\chi^{2}(\\phi, 1 - \\alpha)}{\\Delta^{2}}\\bigg)\n",
    "\\end{align}$$\n",
    "\n",
    "Here, $\\phi$ is the degree of freedom and $\\phi = N - 1$ in our case. Each of them yields\n",
    "\n",
    "(1) Fisher's\n",
    "\n",
    "$$\\begin{align}\n",
    "N \\quad & \\approx & \\quad \\frac{1}{2}\\bigg( \\frac{z_{1 - \\alpha} - \\Delta z_{\\beta}}{\\Delta - 1}\\bigg)^{2} + \\frac{3}{2}\n",
    "\\end{align}$$\n",
    "\n",
    "(2) Wislon-Hilferty's\n",
    "\n",
    "$$\\begin{align}\n",
    "\\Rightarrow \\qquad p \\quad & = & \\quad \\Delta^{2/3}z_{\\beta} - z_{1 - \\alpha}\\\\\n",
    "q \\quad & = & \\quad \\Delta^{2/3} - 1\\\\\n",
    "r \\quad & = & \\quad \\frac{p - \\sqrt{p^{2} + 4q^{2}}}{2q}\\\\\n",
    "N \\quad & \\approx & \\quad \\frac{2}{9r^{2}} + 1\n",
    "\\end{align}$$\n"
   ]
  },
  {
   "cell_type": "code",
   "execution_count": 146,
   "metadata": {
    "collapsed": true
   },
   "outputs": [],
   "source": [
    "dd = 0.95 # delta\n",
    "a = 0.05 # significance level\n",
    "b = 0.1  # prob. type-II error.\n",
    "\n",
    "za = spst.norm.ppf(a)\n",
    "zb = spst.norm.ppf(1 - b)"
   ]
  },
  {
   "cell_type": "code",
   "execution_count": 147,
   "metadata": {
    "collapsed": true
   },
   "outputs": [],
   "source": [
    "# Fisher's approximation\n",
    "\n",
    "N_fs = 0.5*(((za - dd*zb)/(dd - 1))**2) + 1.5"
   ]
  },
  {
   "cell_type": "code",
   "execution_count": 148,
   "metadata": {
    "collapsed": true
   },
   "outputs": [],
   "source": [
    "# Wislon-Hilferty's approximation\n",
    "\n",
    "p = dd ** (2/3) * zb - za\n",
    "q = dd ** (2/3) - 1\n",
    "r = (p - np.sqrt(p**2 + 4 * q**2))/(2 * q)\n",
    "N_wh = 2/(9 * r**2) + 1"
   ]
  },
  {
   "cell_type": "code",
   "execution_count": 153,
   "metadata": {},
   "outputs": [
    {
     "name": "stdout",
     "output_type": "stream",
     "text": [
      "     1,      1,   4445,   6667\n",
      "0.0526, 0.0526, 0.9994, 1.0000\n",
      "\n",
      "     1,   1482,   2964,   4445\n",
      "0.0526, 0.8725, 0.9897, 0.9994\n",
      "\n",
      "  1482,   1976,   2470,   2964\n",
      "0.8725, 0.9427, 0.9753, 0.9897\n",
      "\n",
      "  1482,   1482,   2141,   2470\n",
      "0.8725, 0.8725, 0.9566, 0.9753\n",
      "\n",
      "  1482,   1701,   1922,   2141\n",
      "0.8725, 0.9100, 0.9373, 0.9566\n",
      "\n",
      "  1482,   1482,   1776,   1922\n",
      "0.8725, 0.8725, 0.9203, 0.9373\n",
      "\n",
      "  1482,   1580,   1678,   1776\n",
      "0.8725, 0.8908, 0.9066, 0.9203\n",
      "\n",
      "  1580,   1612,   1646,   1678\n",
      "0.8908, 0.8962, 0.9017, 0.9066\n",
      "\n",
      "  1612,   1623,   1635,   1646\n",
      "0.8962, 0.8980, 0.9000, 0.9017\n",
      "\n",
      "  1623,   1630,   1646,   1646\n",
      "0.8980, 0.8992, 0.9017, 0.9017\n",
      "\n",
      "  1630,   1635,   1641,   1646\n",
      "0.8992, 0.9000, 0.9009, 0.9017\n",
      "\n",
      "  1635,   1637,   1639,   1641\n",
      "0.9000, 0.9003, 0.9006, 0.9009\n",
      "\n",
      "  1635,   1635,   1638,   1639\n",
      "0.9000, 0.9000, 0.9004, 0.9006\n",
      "\n",
      "  1635,   1636,   1637,   1638\n",
      "0.9000, 0.9001, 0.9003, 0.9004\n",
      "\n",
      "power = 0.90, delta = 0.950\n",
      "N = 1637 (N_f = 1640.084, N_wh = 1636.166) \n",
      "\n"
     ]
    }
   ],
   "source": [
    "# numerical search\n",
    "N = 10000\n",
    "dfs = np.arange(1, N + 1)\n",
    "cc = spst.chi2.ppf(a, df=dfs) / dd**2    \n",
    "pwrs = spst.chi2.cdf(cc, df=dfs)\n",
    "pwr = 1 - b\n",
    "idx1 = 0\n",
    "idx4 = N - 1\n",
    "idx2 = idx1 + (idx4 - idx1) // 3\n",
    "idx3 = idx4 - (idx4 - idx1) // 3\n",
    "while True:\n",
    "    if pwrs[idx1] == pwr:\n",
    "        idx = idx1\n",
    "        break\n",
    "    elif pwrs[idx2] == pwr:\n",
    "        idx = idx2\n",
    "        break\n",
    "    elif pwrs[idx3] == pwr:\n",
    "        idx = idx3\n",
    "        break\n",
    "    elif pwrs[idx4] == pwr:\n",
    "        idx = idx4\n",
    "        break\n",
    "\n",
    "    if pwrs[idx2] > pwr and pwrs[idx3] > pwr:\n",
    "        idx2 = idx1\n",
    "        idx4 = idx3\n",
    "        idx3 = idx4 - (idx4 - idx1) // 3\n",
    "    elif pwrs[idx2] < pwr and pwrs[idx3] < pwr:\n",
    "        idx3 = idx4\n",
    "        idx1 = idx2\n",
    "        idx2 = idx1 + (idx4 - idx1) // 3\n",
    "    else:\n",
    "        if idx4 <= idx1 + 3:\n",
    "            idx1 = idx2\n",
    "            idx4 = idx3\n",
    "            idx2 = idx1 + 1\n",
    "            idx3 = idx4 - 1\n",
    "        else:\n",
    "            idx1 = idx2\n",
    "            idx4 = idx3\n",
    "            idx2 = idx1 + (idx4 - idx1) // 3\n",
    "            idx3 = idx4 - (idx4 - idx1) // 3\n",
    "    #print('{:6d}, {:6d}, {:6d}, {:6d}'.format(dfs[idx1],dfs[idx2],dfs[idx3],dfs[idx4]))\n",
    "    #print('{:1.4f}, {:1.4f}, {:1.4f}, {:1.4f}\\n'.format(pwrs[idx1],pwrs[idx2],pwrs[idx3],pwrs[idx4]))\n",
    "\n",
    "    if idx2 + 1 >= idx3:\n",
    "        if pwrs[idx1] < pwr and pwrs[idx2] >= pwr:\n",
    "            idx = idx2\n",
    "            break\n",
    "        elif pwrs[idx2] < pwr and pwrs[idx3] >= pwr:\n",
    "            idx = idx3\n",
    "            break\n",
    "        elif pwrs[idx3] < pwr and pwrs[idx4] >= pwr:\n",
    "            idx = idx4\n",
    "            break\n",
    "N_nm = dfs[idx] + 1 # N - 1 \n",
    "print('power = {:1.2f}, delta = {:1.3f}'.format(pwr, dd))\n",
    "print('N = {:2d} (N_f = {:2.3f}, N_wh = {:2.3f}) \\n'.format(N_nm, N_fs, N_wh))"
   ]
  },
  {
   "cell_type": "code",
   "execution_count": 223,
   "metadata": {},
   "outputs": [
    {
     "name": "stdout",
     "output_type": "stream",
     "text": [
      "numerical      :  1635\n",
      "Fisher's       :  1640.08387422\n",
      "Wislon-Hilferty:  1636.16646964\n"
     ]
    }
   ],
   "source": [
    "print('numerical      : ', N_nm)\n",
    "print('Fisher\\'s       : ', N_fs)\n",
    "print('Wislon-Hilferty: ', N_wh)"
   ]
  },
  {
   "cell_type": "code",
   "execution_count": null,
   "metadata": {
    "collapsed": true
   },
   "outputs": [],
   "source": []
  },
  {
   "cell_type": "code",
   "execution_count": null,
   "metadata": {
    "collapsed": true
   },
   "outputs": [],
   "source": []
  },
  {
   "cell_type": "code",
   "execution_count": null,
   "metadata": {
    "collapsed": true
   },
   "outputs": [],
   "source": []
  },
  {
   "cell_type": "code",
   "execution_count": null,
   "metadata": {
    "collapsed": true
   },
   "outputs": [],
   "source": []
  },
  {
   "cell_type": "markdown",
   "metadata": {
    "collapsed": true
   },
   "source": [
    "## exercises 4.1 - 4.10"
   ]
  },
  {
   "cell_type": "code",
   "execution_count": 37,
   "metadata": {},
   "outputs": [
    {
     "name": "stdout",
     "output_type": "stream",
     "text": [
      "population mean = 6.380\n",
      "S               = 9.736\n",
      "\n",
      "dof         = 9\n",
      "chi_(a/2)   = 19.0228\n",
      "chi_(1-a/2) =  2.7004\n",
      "S/sg0**2    =  2.4340\n"
     ]
    }
   ],
   "source": [
    "x = np.array([6.2, 4.8, 7.3, 5.5, 6.5, 4.9, 6.8, 7.9, 6.6, 7.3])\n",
    "\n",
    "N = x.shape[0]\n",
    "xm = x.mean()\n",
    "S = ((x - xm)**2).sum()\n",
    "print('population mean = {:2.3f}'.format(xm))\n",
    "print('S               = {:2.3f}'.format(S))\n",
    "\n",
    "a = 0.05\n",
    "sg0 = 2.0\n",
    "chi0 = S / (sg0)**2\n",
    "chia2 = spst.chi2.ppf([1 - a/2, a/2], df=N-1)\n",
    "\n",
    "print('\\ndof         = {}'.format(N - 1))\n",
    "print('chi_(a/2)   = {:1.4f}'.format(chia2[0]))\n",
    "print('chi_(1-a/2) =  {:1.4f}'.format(chia2[1]))\n",
    "print('S/sg0**2    =  {:1.4f}'.format(chi0))"
   ]
  },
  {
   "cell_type": "code",
   "execution_count": null,
   "metadata": {
    "collapsed": true
   },
   "outputs": [],
   "source": []
  },
  {
   "cell_type": "code",
   "execution_count": 36,
   "metadata": {},
   "outputs": [
    {
     "name": "stdout",
     "output_type": "stream",
     "text": [
      "population mean = 10.500\n",
      "S               = 4.840\n",
      "\n",
      "dof         = 8\n",
      "chi2_a      = 15.5073\n",
      "S/sg0**2    = 13.4444\n"
     ]
    }
   ],
   "source": [
    "x = np.array([10.8, 11.2, 9.7, 9.9, 12.0, 9.6, 10.5, 10.7, 10.1])\n",
    "\n",
    "N = x.shape[0]\n",
    "xm = x.mean()\n",
    "S = ((x - xm)**2).sum()\n",
    "print('population mean = {:2.3f}'.format(xm))\n",
    "print('S               = {:2.3f}'.format(S))\n",
    "\n",
    "a = 0.05\n",
    "sg0 = 0.6\n",
    "chi0 = S / (sg0)**2\n",
    "chia = spst.chi2.ppf([1 - a], df=N-1)\n",
    "\n",
    "print('\\ndof         = {}'.format(N - 1))\n",
    "print('chi2_a      = {:1.4f}'.format(chia[0]))\n",
    "print('S/sg0**2    = {:1.4f}'.format(chi0))"
   ]
  },
  {
   "cell_type": "code",
   "execution_count": null,
   "metadata": {
    "collapsed": true
   },
   "outputs": [],
   "source": []
  },
  {
   "cell_type": "code",
   "execution_count": 42,
   "metadata": {},
   "outputs": [
    {
     "name": "stdout",
     "output_type": "stream",
     "text": [
      "population mean = 19.500\n",
      "S               = 26.000\n",
      "\n",
      "dof         = 7\n",
      "chi2_a      = 2.1673\n",
      "S/sg0**2    = 1.6250\n"
     ]
    }
   ],
   "source": [
    "x = np.array([21, 19, 16, 19, 22, 18, 20, 21])\n",
    "\n",
    "N = x.shape[0]\n",
    "xm = x.mean()\n",
    "S = ((x - xm)**2).sum()\n",
    "print('population mean = {:2.3f}'.format(xm))\n",
    "print('S               = {:2.3f}'.format(S))\n",
    "\n",
    "a = 0.05\n",
    "sg0 = 4.0\n",
    "chi0 = S / (sg0)**2\n",
    "chia = spst.chi2.ppf(q=[a], df=N-1)\n",
    "\n",
    "print('\\ndof         = {}'.format(N - 1))\n",
    "print('chi2_a      = {:1.4f}'.format(chia[0]))\n",
    "print('S/sg0**2    = {:1.4f}'.format(chi0))"
   ]
  },
  {
   "cell_type": "code",
   "execution_count": null,
   "metadata": {
    "collapsed": true
   },
   "outputs": [],
   "source": []
  },
  {
   "cell_type": "code",
   "execution_count": 65,
   "metadata": {},
   "outputs": [
    {
     "name": "stdout",
     "output_type": "stream",
     "text": [
      "N = 10, power = 0.71044\n",
      "N = 20, power = 0.98827\n"
     ]
    }
   ],
   "source": [
    "Ns = [10, 20]\n",
    "deltas = [0.5, 0.5]\n",
    "a = 0.05\n",
    "\n",
    "for delta, N in zip(deltas, Ns):\n",
    "    chia2 = spst.chi2.ppf([1 - a/2, a/2], df=N-1)\n",
    "    chia2 /= delta**2\n",
    "    beta  = spst.chi2.cdf(x=chia2[0], df=N-1)\n",
    "    beta -= spst.chi2.cdf(x=chia2[1], df=N-1)\n",
    "    #print(spst.chi2.cdf(x=chia2[0], df=N-1), spst.chi2.cdf(x=chia2[1], df=N-1))\n",
    "    print('N = {:2d}, power = {:1.5f}'.format(N, 1 - beta))"
   ]
  },
  {
   "cell_type": "code",
   "execution_count": null,
   "metadata": {
    "collapsed": true
   },
   "outputs": [],
   "source": []
  },
  {
   "cell_type": "code",
   "execution_count": 67,
   "metadata": {},
   "outputs": [
    {
     "name": "stdout",
     "output_type": "stream",
     "text": [
      "N =  9, power = 0.54831\n",
      "N =  9, power = 0.86806\n"
     ]
    }
   ],
   "source": [
    "Ns = [9, 9]\n",
    "deltas = [1.5, 2.0]\n",
    "a = 0.05\n",
    "\n",
    "for delta, N in zip(deltas, Ns):\n",
    "    chia = spst.chi2.ppf([1 - a], df=N-1)\n",
    "    chia /= delta**2\n",
    "    beta  = spst.chi2.cdf(x=chia[0], df=N-1)\n",
    "    print('N = {:2d}, power = {:1.5f}'.format(N, 1 - beta))"
   ]
  },
  {
   "cell_type": "code",
   "execution_count": null,
   "metadata": {
    "collapsed": true
   },
   "outputs": [],
   "source": []
  },
  {
   "cell_type": "code",
   "execution_count": 71,
   "metadata": {},
   "outputs": [
    {
     "name": "stdout",
     "output_type": "stream",
     "text": [
      "N =  8, power = 0.15290\n",
      "N = 16, power = 0.27224\n"
     ]
    }
   ],
   "source": [
    "Ns = [8, 16]\n",
    "deltas = [0.8, 0.8]\n",
    "a = 0.05\n",
    "\n",
    "for delta, N in zip(deltas, Ns):\n",
    "    chia = spst.chi2.ppf([a], df=N-1)\n",
    "    chia /= delta**2\n",
    "    beta  = 1 - spst.chi2.cdf(x=chia[0], df=N-1)\n",
    "    print('N = {:2d}, power = {:1.5f}'.format(N, 1 - beta))"
   ]
  },
  {
   "cell_type": "code",
   "execution_count": null,
   "metadata": {
    "collapsed": true
   },
   "outputs": [],
   "source": []
  },
  {
   "cell_type": "code",
   "execution_count": 198,
   "metadata": {
    "scrolled": false
   },
   "outputs": [
    {
     "name": "stdout",
     "output_type": "stream",
     "text": [
      "power = 0.90, delta = 1.800\n",
      "N     = 16\n",
      "N_f   = 15.723\n",
      "N_wh  = 15.801\n",
      "\n",
      "power = 0.90, delta = 0.556\n",
      "N     = 19\n",
      "N_f   = 19.571\n",
      "N_wh  = 18.327\n",
      "\n",
      "====== number of sample = 19 \n",
      "\n",
      "power = 0.95, delta = 1.800\n",
      "N     = 21\n",
      "N_f   = 20.417\n",
      "N_wh  = 20.084\n",
      "\n",
      "power = 0.95, delta = 0.556\n",
      "N     = 22\n",
      "N_f   = 22.404\n",
      "N_wh  = 21.389\n",
      "\n",
      "====== number of sample = 22 \n",
      "\n"
     ]
    }
   ],
   "source": [
    "deltas = [9/5, 5/9] # delta\n",
    "a = 0.05 # significance level\n",
    "powers = [0.9, 0.95] # prob. type-II error.\n",
    "\n",
    "for pwr in powers:\n",
    "    N_nm = []\n",
    "    for dd in deltas:\n",
    "        za = spst.norm.ppf(a/2)\n",
    "        z1b = spst.norm.ppf(pwr)\n",
    "\n",
    "        # Fisher's approximation\n",
    "\n",
    "        N_fs = 0.5*(((za - dd*z1b)/(dd - 1))**2) + 1.5\n",
    "\n",
    "        # Wislon-Hilferty's approximation\n",
    "\n",
    "        p = dd ** (2/3) * z1b - za\n",
    "        q = dd ** (2/3) - 1\n",
    "        r = (p - np.sqrt(p**2 + 4 * q**2))/(2 * q)\n",
    "        N_wh = 2/(9 * r**2) + 1\n",
    "\n",
    "        # numerical search\n",
    "\n",
    "        N = 100\n",
    "        dfs = np.arange(1, N + 1)\n",
    "        if dd > 1:\n",
    "            cc = spst.chi2.ppf(1 - a/2, df=dfs) / dd**2\n",
    "            pwrs = 1 - spst.chi2.cdf(cc, df=dfs)\n",
    "        else:\n",
    "            cc = spst.chi2.ppf(a/2, df=dfs) / dd**2    \n",
    "            pwrs = spst.chi2.cdf(cc, df=dfs)\n",
    "        idx1 = 0\n",
    "        idx4 = N - 1\n",
    "        idx2 = idx1 + (idx4 - idx1) // 3\n",
    "        idx3 = idx4 - (idx4 - idx1) // 3\n",
    "        while True:\n",
    "            if pwrs[idx1] == pwr:\n",
    "                idx = idx1\n",
    "                break\n",
    "            elif pwrs[idx2] == pwr:\n",
    "                idx = idx2\n",
    "                break\n",
    "            elif pwrs[idx3] == pwr:\n",
    "                idx = idx3\n",
    "                break\n",
    "            elif pwrs[idx4] == pwr:\n",
    "                idx = idx4\n",
    "                break\n",
    "                \n",
    "            if pwrs[idx2] > pwr and pwrs[idx3] > pwr:\n",
    "                idx2 = idx1\n",
    "                idx4 = idx3\n",
    "                idx3 = idx4 - (idx4 - idx1) // 3\n",
    "            elif pwrs[idx2] < pwr and pwrs[idx3] < pwr:\n",
    "                idx3 = idx4\n",
    "                idx1 = idx2\n",
    "                idx2 = idx1 + (idx4 - idx1) // 3\n",
    "            else:\n",
    "                if idx4 <= idx1 + 3:\n",
    "                    idx1 = idx2\n",
    "                    idx4 = idx3\n",
    "                    idx2 = idx1 + 1\n",
    "                    idx3 = idx4 - 1\n",
    "                else:\n",
    "                    idx1 = idx2\n",
    "                    idx4 = idx3\n",
    "                    idx2 = idx1 + (idx4 - idx1) // 3\n",
    "                    idx3 = idx4 - (idx4 - idx1) // 3\n",
    "            \n",
    "            if idx2 + 1 >= idx3:\n",
    "                if pwrs[idx1] < pwr and pwrs[idx2] >= pwr:\n",
    "                    idx = idx2\n",
    "                    break\n",
    "                elif pwrs[idx2] < pwr and pwrs[idx3] >= pwr:\n",
    "                    idx = idx3\n",
    "                    break\n",
    "                elif pwrs[idx3] < pwr and pwrs[idx4] >= pwr:\n",
    "                    idx = idx4\n",
    "                    break\n",
    "        N_nm.append(dfs[idx] + 1) # N - 1 \n",
    "\n",
    "        print('power = {:1.2f}, delta = {:1.3f}'.format(pwr, dd))\n",
    "        print('N     = {:2d}\\nN_f   = {:2.3f}\\nN_wh  = {:2.3f}\\n'.format(N_nm[-1], N_fs, N_wh))\n",
    "    N_nm.sort()\n",
    "    print('====== number of sample = {:2d} \\n'.format(N_nm[-1]))"
   ]
  },
  {
   "cell_type": "code",
   "execution_count": null,
   "metadata": {
    "collapsed": true
   },
   "outputs": [],
   "source": []
  },
  {
   "cell_type": "code",
   "execution_count": 197,
   "metadata": {},
   "outputs": [
    {
     "name": "stdout",
     "output_type": "stream",
     "text": [
      "power = 0.90, delta = 2.000\n",
      "N     = 11\n",
      "N_f   = 10.353\n",
      "N_wh  = 10.157\n",
      "\n",
      "power = 0.95, delta = 2.000\n",
      "N     = 14\n",
      "N_f   = 13.675\n",
      "N_wh  = 13.106\n",
      "\n"
     ]
    }
   ],
   "source": [
    "deltas = [2.0] # delta\n",
    "a = 0.05 # significance level\n",
    "powers = [0.9, 0.95] # prob. type-II error.\n",
    "\n",
    "for pwr in powers:\n",
    "    N_nm = []\n",
    "    for dd in deltas:\n",
    "        za = spst.norm.ppf(1-a)\n",
    "        z1b = spst.norm.ppf(1-pwr)\n",
    "\n",
    "        # Fisher's approximation\n",
    "\n",
    "        N_fs = 0.5*(((za - dd*z1b)/(dd - 1))**2) + 1.5\n",
    "\n",
    "        # Wislon-Hilferty's approximation\n",
    "\n",
    "        p = dd ** (2/3) * z1b - za\n",
    "        q = dd ** (2/3) - 1\n",
    "        r = (p + np.sqrt(p**2 + 4 * q**2))/(2 * q)\n",
    "        N_wh = 2/(9 * r**2) + 1\n",
    "\n",
    "        # numerical search\n",
    "\n",
    "        N = 100\n",
    "        dfs = np.arange(1, N + 1)\n",
    "        if dd > 1:\n",
    "            cc = spst.chi2.ppf(1 - a, df=dfs) / dd**2\n",
    "            pwrs = 1 - spst.chi2.cdf(cc, df=dfs)\n",
    "        else:\n",
    "            cc = spst.chi2.ppf(a, df=dfs) / dd**2    \n",
    "            pwrs = spst.chi2.cdf(cc, df=dfs)\n",
    "        idx1 = 0\n",
    "        idx4 = N - 1\n",
    "        idx2 = idx1 + (idx4 - idx1) // 3\n",
    "        idx3 = idx4 - (idx4 - idx1) // 3\n",
    "        while True:\n",
    "            if pwrs[idx1] == pwr:\n",
    "                idx = idx1\n",
    "                break\n",
    "            elif pwrs[idx2] == pwr:\n",
    "                idx = idx2\n",
    "                break\n",
    "            elif pwrs[idx3] == pwr:\n",
    "                idx = idx3\n",
    "                break\n",
    "            elif pwrs[idx4] == pwr:\n",
    "                idx = idx4\n",
    "                break\n",
    "                \n",
    "            if pwrs[idx2] > pwr and pwrs[idx3] > pwr:\n",
    "                idx2 = idx1\n",
    "                idx4 = idx3\n",
    "                idx3 = idx4 - (idx4 - idx1) // 3\n",
    "            elif pwrs[idx2] < pwr and pwrs[idx3] < pwr:\n",
    "                idx3 = idx4\n",
    "                idx1 = idx2\n",
    "                idx2 = idx1 + (idx4 - idx1) // 3\n",
    "            else:\n",
    "                if idx4 <= idx1 + 3:\n",
    "                    idx1 = idx2\n",
    "                    idx4 = idx3\n",
    "                    idx2 = idx1 + 1\n",
    "                    idx3 = idx4 - 1\n",
    "                else:\n",
    "                    idx1 = idx2\n",
    "                    idx4 = idx3\n",
    "                    idx2 = idx1 + (idx4 - idx1) // 3\n",
    "                    idx3 = idx4 - (idx4 - idx1) // 3\n",
    "            \n",
    "            if idx2 + 1 >= idx3:\n",
    "                if pwrs[idx1] < pwr and pwrs[idx2] >= pwr:\n",
    "                    idx = idx2\n",
    "                    break\n",
    "                elif pwrs[idx2] < pwr and pwrs[idx3] >= pwr:\n",
    "                    idx = idx3\n",
    "                    break\n",
    "                elif pwrs[idx3] < pwr and pwrs[idx4] >= pwr:\n",
    "                    idx = idx4\n",
    "                    break\n",
    "        N_nm.append(dfs[idx] + 1) # N - 1 \n",
    "\n",
    "        print('power = {:1.2f}, delta = {:1.3f}'.format(pwr, dd))\n",
    "        print('N     = {:2d}\\nN_f   = {:2.3f}\\nN_wh  = {:2.3f}\\n'.format(N_nm[-1], N_fs, N_wh))"
   ]
  },
  {
   "cell_type": "code",
   "execution_count": null,
   "metadata": {
    "collapsed": true
   },
   "outputs": [],
   "source": []
  },
  {
   "cell_type": "code",
   "execution_count": 196,
   "metadata": {},
   "outputs": [
    {
     "name": "stdout",
     "output_type": "stream",
     "text": [
      "power = 0.90, delta = 0.500\n",
      "N     = 12\n",
      "N_f   = 11.948\n",
      "N_wh  = 11.198\n",
      "\n",
      "power = 0.95, delta = 0.500\n",
      "N     = 14\n",
      "N_f   = 13.675\n",
      "N_wh  = 13.106\n",
      "\n"
     ]
    }
   ],
   "source": [
    "deltas = [0.5] # delta\n",
    "a = 0.05 # significance level\n",
    "powers = [0.9, 0.95] # prob. type-II error.\n",
    "\n",
    "for pwr in powers:\n",
    "    N_nm = []\n",
    "    for dd in deltas:\n",
    "        za = spst.norm.ppf(a)\n",
    "        z1b = spst.norm.ppf(pwr)\n",
    "\n",
    "        # Fisher's approximation\n",
    "\n",
    "        N_fs = 0.5*(((za - dd*z1b)/(dd - 1))**2) + 1.5\n",
    "\n",
    "        # Wislon-Hilferty's approximation\n",
    "\n",
    "        p = dd ** (2/3) * z1b - za\n",
    "        q = dd ** (2/3) - 1\n",
    "        r = (p - np.sqrt(p**2 + 4 * q**2))/(2 * q)\n",
    "        N_wh = 2/(9 * r**2) + 1\n",
    "\n",
    "        # numerical search\n",
    "\n",
    "        N = 100\n",
    "        dfs = np.arange(1, N + 1)\n",
    "        if dd > 1:\n",
    "            cc = spst.chi2.ppf(1 - a, df=dfs) / dd**2\n",
    "            pwrs = 1 - spst.chi2.cdf(cc, df=dfs)\n",
    "        else:\n",
    "            cc = spst.chi2.ppf(a, df=dfs) / dd**2    \n",
    "            pwrs = spst.chi2.cdf(cc, df=dfs)\n",
    "        idx1 = 0\n",
    "        idx4 = N - 1\n",
    "        idx2 = idx1 + (idx4 - idx1) // 3\n",
    "        idx3 = idx4 - (idx4 - idx1) // 3\n",
    "        while True:\n",
    "            if pwrs[idx1] == pwr:\n",
    "                idx = idx1\n",
    "                break\n",
    "            elif pwrs[idx2] == pwr:\n",
    "                idx = idx2\n",
    "                break\n",
    "            elif pwrs[idx3] == pwr:\n",
    "                idx = idx3\n",
    "                break\n",
    "            elif pwrs[idx4] == pwr:\n",
    "                idx = idx4\n",
    "                break\n",
    "                \n",
    "            if pwrs[idx2] > pwr and pwrs[idx3] > pwr:\n",
    "                idx2 = idx1\n",
    "                idx4 = idx3\n",
    "                idx3 = idx4 - (idx4 - idx1) // 3\n",
    "            elif pwrs[idx2] < pwr and pwrs[idx3] < pwr:\n",
    "                idx3 = idx4\n",
    "                idx1 = idx2\n",
    "                idx2 = idx1 + (idx4 - idx1) // 3\n",
    "            else:\n",
    "                if idx4 <= idx1 + 3:\n",
    "                    idx1 = idx2\n",
    "                    idx4 = idx3\n",
    "                    idx2 = idx1 + 1\n",
    "                    idx3 = idx4 - 1\n",
    "                else:\n",
    "                    idx1 = idx2\n",
    "                    idx4 = idx3\n",
    "                    idx2 = idx1 + (idx4 - idx1) // 3\n",
    "                    idx3 = idx4 - (idx4 - idx1) // 3\n",
    "            \n",
    "            if idx2 + 1 >= idx3:\n",
    "                if pwrs[idx1] < pwr and pwrs[idx2] >= pwr:\n",
    "                    idx = idx2\n",
    "                    break\n",
    "                elif pwrs[idx2] < pwr and pwrs[idx3] >= pwr:\n",
    "                    idx = idx3\n",
    "                    break\n",
    "                elif pwrs[idx3] < pwr and pwrs[idx4] >= pwr:\n",
    "                    idx = idx4\n",
    "                    break\n",
    "        N_nm.append(dfs[idx] + 1) # N - 1 \n",
    "\n",
    "        print('power = {:1.2f}, delta = {:1.3f}'.format(pwr, dd))\n",
    "        print('N     = {:2d}\\nN_f   = {:2.3f}\\nN_wh  = {:2.3f}\\n'.format(N_nm[-1], N_fs, N_wh))"
   ]
  },
  {
   "cell_type": "code",
   "execution_count": null,
   "metadata": {
    "collapsed": true
   },
   "outputs": [],
   "source": []
  },
  {
   "cell_type": "code",
   "execution_count": 200,
   "metadata": {},
   "outputs": [
    {
     "name": "stdout",
     "output_type": "stream",
     "text": [
      "power = 0.90\n",
      "delta = 0.90\n",
      "N     = 391\n",
      "N_f   = 393.010\n",
      "N_wh  = 390.864\n",
      "\n",
      "power = 0.90\n",
      "delta = 0.95\n",
      "N     = 1637\n",
      "N_f   = 1640.084\n",
      "N_wh  = 1636.166\n",
      "\n",
      "power = 0.90\n",
      "delta = 0.99\n",
      "N     = 42429\n",
      "N_f   = 42446.524\n",
      "N_wh  = 42428.432\n",
      "\n",
      "power = 0.95\n",
      "delta = 0.90\n",
      "N     = 490\n",
      "N_f   = 489.851\n",
      "N_wh  = 489.294\n",
      "\n",
      "power = 0.95\n",
      "delta = 0.95\n",
      "N     = 2059\n",
      "N_f   = 2059.066\n",
      "N_wh  = 2058.509\n",
      "\n",
      "power = 0.95\n",
      "delta = 0.99\n",
      "N     = 53573\n",
      "N_f   = 53572.613\n",
      "N_wh  = 53572.057\n",
      "\n",
      "power = 0.99\n",
      "delta = 0.90\n",
      "N     = 704\n",
      "N_f   = 700.344\n",
      "N_wh  = 703.815\n",
      "\n",
      "power = 0.99\n",
      "delta = 0.95\n",
      "N     = 2982\n",
      "N_f   = 2973.526\n",
      "N_wh  = 2981.506\n",
      "\n",
      "power = 0.99\n",
      "delta = 0.99\n",
      "N     = 77977\n",
      "N_f   = 77932.573\n",
      "N_wh  = 77976.636\n",
      "\n"
     ]
    }
   ],
   "source": [
    "deltas = [0.9, 0.95, 0.99] # delta\n",
    "a = 0.05 # significance level\n",
    "powers = [0.9, 0.95, 0.99] # prob. type-II error.\n",
    "\n",
    "for pwr in powers:\n",
    "    N_nm = []\n",
    "    for dd in deltas:\n",
    "        za = spst.norm.ppf(a)\n",
    "        z1b = spst.norm.ppf(pwr)\n",
    "\n",
    "        # Fisher's approximation\n",
    "\n",
    "        N_fs = 0.5*(((za - dd*z1b)/(dd - 1))**2) + 1.5\n",
    "\n",
    "        # Wislon-Hilferty's approximation\n",
    "\n",
    "        p = dd ** (2/3) * z1b - za\n",
    "        q = dd ** (2/3) - 1\n",
    "        r = (p - np.sqrt(p**2 + 4 * q**2))/(2 * q)\n",
    "        N_wh = 2/(9 * r**2) + 1\n",
    "\n",
    "        # numerical search\n",
    "\n",
    "        N = 100000\n",
    "        dfs = np.arange(1, N + 1)\n",
    "        if dd > 1:\n",
    "            cc = spst.chi2.ppf(1 - a, df=dfs) / dd**2\n",
    "            pwrs = 1 - spst.chi2.cdf(cc, df=dfs)\n",
    "        else:\n",
    "            cc = spst.chi2.ppf(a, df=dfs) / dd**2    \n",
    "            pwrs = spst.chi2.cdf(cc, df=dfs)\n",
    "        idx1 = 0\n",
    "        idx4 = N - 1\n",
    "        idx2 = idx1 + (idx4 - idx1) // 3\n",
    "        idx3 = idx4 - (idx4 - idx1) // 3\n",
    "        while True:\n",
    "            if pwrs[idx1] == pwr:\n",
    "                idx = idx1\n",
    "                break\n",
    "            elif pwrs[idx2] == pwr:\n",
    "                idx = idx2\n",
    "                break\n",
    "            elif pwrs[idx3] == pwr:\n",
    "                idx = idx3\n",
    "                break\n",
    "            elif pwrs[idx4] == pwr:\n",
    "                idx = idx4\n",
    "                break\n",
    "                \n",
    "            if pwrs[idx2] > pwr and pwrs[idx3] > pwr:\n",
    "                idx2 = idx1\n",
    "                idx4 = idx3\n",
    "                idx3 = idx4 - (idx4 - idx1) // 3\n",
    "            elif pwrs[idx2] < pwr and pwrs[idx3] < pwr:\n",
    "                idx3 = idx4\n",
    "                idx1 = idx2\n",
    "                idx2 = idx1 + (idx4 - idx1) // 3\n",
    "            else:\n",
    "                if idx4 <= idx1 + 3:\n",
    "                    idx1 = idx2\n",
    "                    idx4 = idx3\n",
    "                    idx2 = idx1 + 1\n",
    "                    idx3 = idx4 - 1\n",
    "                else:\n",
    "                    idx1 = idx2\n",
    "                    idx4 = idx3\n",
    "                    idx2 = idx1 + (idx4 - idx1) // 3\n",
    "                    idx3 = idx4 - (idx4 - idx1) // 3\n",
    "            \n",
    "            if idx2 + 1 >= idx3:\n",
    "                if pwrs[idx1] < pwr and pwrs[idx2] >= pwr:\n",
    "                    idx = idx2\n",
    "                    break\n",
    "                elif pwrs[idx2] < pwr and pwrs[idx3] >= pwr:\n",
    "                    idx = idx3\n",
    "                    break\n",
    "                elif pwrs[idx3] < pwr and pwrs[idx4] >= pwr:\n",
    "                    idx = idx4\n",
    "                    break\n",
    "        N_nm.append(dfs[idx] + 1) # N - 1 \n",
    "\n",
    "        print('power = {:1.2f}\\ndelta = {:1.2f}'.format(pwr, dd))\n",
    "        print('N     = {:2d}\\nN_f   = {:2.3f}\\nN_wh  = {:2.3f}\\n'.format(N_nm[-1], N_fs, N_wh))"
   ]
  },
  {
   "cell_type": "code",
   "execution_count": null,
   "metadata": {
    "collapsed": true
   },
   "outputs": [],
   "source": []
  },
  {
   "cell_type": "code",
   "execution_count": null,
   "metadata": {
    "collapsed": true
   },
   "outputs": [],
   "source": []
  },
  {
   "cell_type": "code",
   "execution_count": null,
   "metadata": {
    "collapsed": true
   },
   "outputs": [],
   "source": []
  }
 ],
 "metadata": {
  "kernelspec": {
   "display_name": "Python 3",
   "language": "python",
   "name": "python3"
  },
  "language_info": {
   "codemirror_mode": {
    "name": "ipython",
    "version": 3
   },
   "file_extension": ".py",
   "mimetype": "text/x-python",
   "name": "python",
   "nbconvert_exporter": "python",
   "pygments_lexer": "ipython3",
   "version": "3.6.1"
  }
 },
 "nbformat": 4,
 "nbformat_minor": 2
}
